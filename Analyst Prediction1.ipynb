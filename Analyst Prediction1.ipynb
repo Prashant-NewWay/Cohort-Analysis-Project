{
 "cells": [
  {
   "cell_type": "code",
   "execution_count": null,
   "id": "dcbb634b",
   "metadata": {},
   "outputs": [],
   "source": []
  },
  {
   "cell_type": "code",
   "execution_count": 41,
   "id": "10b6c39a",
   "metadata": {},
   "outputs": [],
   "source": [
    "import pandas as pd"
   ]
  },
  {
   "cell_type": "code",
   "execution_count": 42,
   "id": "4e5a57a7",
   "metadata": {},
   "outputs": [],
   "source": [
    "df =pd.read_excel(r\"C:\\Users\\prash\\Downloads\\results_2021-09-30_DA Assignment.xlsx\")"
   ]
  },
  {
   "cell_type": "code",
   "execution_count": 43,
   "id": "47975cc8",
   "metadata": {},
   "outputs": [
    {
     "data": {
      "text/html": [
       "<div>\n",
       "<style scoped>\n",
       "    .dataframe tbody tr th:only-of-type {\n",
       "        vertical-align: middle;\n",
       "    }\n",
       "\n",
       "    .dataframe tbody tr th {\n",
       "        vertical-align: top;\n",
       "    }\n",
       "\n",
       "    .dataframe thead th {\n",
       "        text-align: right;\n",
       "    }\n",
       "</style>\n",
       "<table border=\"1\" class=\"dataframe\">\n",
       "  <thead>\n",
       "    <tr style=\"text-align: right;\">\n",
       "      <th></th>\n",
       "      <th>vessel_live_info_id</th>\n",
       "      <th>timestamp_utc</th>\n",
       "      <th>scheduled_arrival_utc</th>\n",
       "      <th>estimated_arrival_utc</th>\n",
       "      <th>imo</th>\n",
       "      <th>port_code</th>\n",
       "      <th>actual_arrival_utc</th>\n",
       "    </tr>\n",
       "  </thead>\n",
       "  <tbody>\n",
       "    <tr>\n",
       "      <th>0</th>\n",
       "      <td>4e1582e1-ea33-4977-b84e-886f0095bee4</td>\n",
       "      <td>2021-07-02T02:32:29Z</td>\n",
       "      <td>2021-09-05T18:30:00Z</td>\n",
       "      <td>2021-08-07T13:50:21.965794Z</td>\n",
       "      <td>9393307</td>\n",
       "      <td>INMUN</td>\n",
       "      <td>2021-08-31T08:45:09.54Z</td>\n",
       "    </tr>\n",
       "    <tr>\n",
       "      <th>1</th>\n",
       "      <td>a0b4c72a-a7ec-4888-b513-77c837b0b82d</td>\n",
       "      <td>2021-07-03T03:17:16Z</td>\n",
       "      <td>2021-09-05T18:30:00Z</td>\n",
       "      <td>2021-08-07T06:24:55.229106Z</td>\n",
       "      <td>9393307</td>\n",
       "      <td>INMUN</td>\n",
       "      <td>2021-08-31T08:45:09.54Z</td>\n",
       "    </tr>\n",
       "    <tr>\n",
       "      <th>2</th>\n",
       "      <td>4947dc14-3471-48bc-bee1-7ba82e301182</td>\n",
       "      <td>2021-07-04T02:53:17Z</td>\n",
       "      <td>2021-09-05T18:30:00Z</td>\n",
       "      <td>2021-08-07T20:52:36.357922Z</td>\n",
       "      <td>9393307</td>\n",
       "      <td>INMUN</td>\n",
       "      <td>2021-08-31T08:45:09.54Z</td>\n",
       "    </tr>\n",
       "    <tr>\n",
       "      <th>3</th>\n",
       "      <td>f90f626f-1933-4c46-8749-947c2a246e0b</td>\n",
       "      <td>2021-07-04T23:55:04Z</td>\n",
       "      <td>2021-09-05T18:30:00Z</td>\n",
       "      <td>2021-08-08T16:25:14.146273Z</td>\n",
       "      <td>9393307</td>\n",
       "      <td>INMUN</td>\n",
       "      <td>2021-08-31T08:45:09.54Z</td>\n",
       "    </tr>\n",
       "    <tr>\n",
       "      <th>4</th>\n",
       "      <td>7ff01141-9dab-41ef-b1b7-70abc29df3ea</td>\n",
       "      <td>2021-07-06T00:33:44Z</td>\n",
       "      <td>2021-09-05T18:30:00Z</td>\n",
       "      <td>2021-08-08T15:46:31.015292Z</td>\n",
       "      <td>9393307</td>\n",
       "      <td>INMUN</td>\n",
       "      <td>2021-08-31T08:45:09.54Z</td>\n",
       "    </tr>\n",
       "  </tbody>\n",
       "</table>\n",
       "</div>"
      ],
      "text/plain": [
       "                    vessel_live_info_id         timestamp_utc  \\\n",
       "0  4e1582e1-ea33-4977-b84e-886f0095bee4  2021-07-02T02:32:29Z   \n",
       "1  a0b4c72a-a7ec-4888-b513-77c837b0b82d  2021-07-03T03:17:16Z   \n",
       "2  4947dc14-3471-48bc-bee1-7ba82e301182  2021-07-04T02:53:17Z   \n",
       "3  f90f626f-1933-4c46-8749-947c2a246e0b  2021-07-04T23:55:04Z   \n",
       "4  7ff01141-9dab-41ef-b1b7-70abc29df3ea  2021-07-06T00:33:44Z   \n",
       "\n",
       "  scheduled_arrival_utc        estimated_arrival_utc      imo port_code  \\\n",
       "0  2021-09-05T18:30:00Z  2021-08-07T13:50:21.965794Z  9393307     INMUN   \n",
       "1  2021-09-05T18:30:00Z  2021-08-07T06:24:55.229106Z  9393307     INMUN   \n",
       "2  2021-09-05T18:30:00Z  2021-08-07T20:52:36.357922Z  9393307     INMUN   \n",
       "3  2021-09-05T18:30:00Z  2021-08-08T16:25:14.146273Z  9393307     INMUN   \n",
       "4  2021-09-05T18:30:00Z  2021-08-08T15:46:31.015292Z  9393307     INMUN   \n",
       "\n",
       "        actual_arrival_utc  \n",
       "0  2021-08-31T08:45:09.54Z  \n",
       "1  2021-08-31T08:45:09.54Z  \n",
       "2  2021-08-31T08:45:09.54Z  \n",
       "3  2021-08-31T08:45:09.54Z  \n",
       "4  2021-08-31T08:45:09.54Z  "
      ]
     },
     "execution_count": 43,
     "metadata": {},
     "output_type": "execute_result"
    }
   ],
   "source": [
    "df.head()"
   ]
  },
  {
   "cell_type": "code",
   "execution_count": 44,
   "id": "7670a463",
   "metadata": {},
   "outputs": [
    {
     "name": "stdout",
     "output_type": "stream",
     "text": [
      "<class 'pandas.core.frame.DataFrame'>\n",
      "RangeIndex: 6347 entries, 0 to 6346\n",
      "Data columns (total 7 columns):\n",
      " #   Column                 Non-Null Count  Dtype \n",
      "---  ------                 --------------  ----- \n",
      " 0   vessel_live_info_id    6347 non-null   object\n",
      " 1   timestamp_utc          6347 non-null   object\n",
      " 2   scheduled_arrival_utc  6347 non-null   object\n",
      " 3   estimated_arrival_utc  6347 non-null   object\n",
      " 4   imo                    6347 non-null   int64 \n",
      " 5   port_code              6347 non-null   object\n",
      " 6   actual_arrival_utc     6347 non-null   object\n",
      "dtypes: int64(1), object(6)\n",
      "memory usage: 347.2+ KB\n"
     ]
    }
   ],
   "source": [
    "df.info()"
   ]
  },
  {
   "cell_type": "code",
   "execution_count": 45,
   "id": "9582bc22",
   "metadata": {},
   "outputs": [],
   "source": [
    "df['actual_arrival_utc']=pd.to_datetime(df['actual_arrival_utc'])\n",
    "df['timestamp_utc']=pd.to_datetime(df['timestamp_utc'])"
   ]
  },
  {
   "cell_type": "code",
   "execution_count": 46,
   "id": "7dc749cd",
   "metadata": {},
   "outputs": [],
   "source": [
    "df['estimated_arrival_utc'] = pd.to_datetime(df['estimated_arrival_utc'])\n",
    "df['scheduled_arrival_utc'] = pd.to_datetime(df['scheduled_arrival_utc'])\n"
   ]
  },
  {
   "cell_type": "code",
   "execution_count": 47,
   "id": "68c8f1d9",
   "metadata": {},
   "outputs": [
    {
     "name": "stdout",
     "output_type": "stream",
     "text": [
      "<class 'pandas.core.frame.DataFrame'>\n",
      "RangeIndex: 6347 entries, 0 to 6346\n",
      "Data columns (total 7 columns):\n",
      " #   Column                 Non-Null Count  Dtype              \n",
      "---  ------                 --------------  -----              \n",
      " 0   vessel_live_info_id    6347 non-null   object             \n",
      " 1   timestamp_utc          6347 non-null   datetime64[ns, UTC]\n",
      " 2   scheduled_arrival_utc  6347 non-null   datetime64[ns, UTC]\n",
      " 3   estimated_arrival_utc  6347 non-null   datetime64[ns, UTC]\n",
      " 4   imo                    6347 non-null   int64              \n",
      " 5   port_code              6347 non-null   object             \n",
      " 6   actual_arrival_utc     6347 non-null   datetime64[ns, UTC]\n",
      "dtypes: datetime64[ns, UTC](4), int64(1), object(2)\n",
      "memory usage: 347.2+ KB\n"
     ]
    }
   ],
   "source": [
    "df.info()"
   ]
  },
  {
   "cell_type": "code",
   "execution_count": 48,
   "id": "0890787e",
   "metadata": {},
   "outputs": [
    {
     "data": {
      "text/html": [
       "<div>\n",
       "<style scoped>\n",
       "    .dataframe tbody tr th:only-of-type {\n",
       "        vertical-align: middle;\n",
       "    }\n",
       "\n",
       "    .dataframe tbody tr th {\n",
       "        vertical-align: top;\n",
       "    }\n",
       "\n",
       "    .dataframe thead th {\n",
       "        text-align: right;\n",
       "    }\n",
       "</style>\n",
       "<table border=\"1\" class=\"dataframe\">\n",
       "  <thead>\n",
       "    <tr style=\"text-align: right;\">\n",
       "      <th></th>\n",
       "      <th>vessel_live_info_id</th>\n",
       "      <th>timestamp_utc</th>\n",
       "      <th>scheduled_arrival_utc</th>\n",
       "      <th>estimated_arrival_utc</th>\n",
       "      <th>port_code</th>\n",
       "      <th>actual_arrival_utc</th>\n",
       "    </tr>\n",
       "    <tr>\n",
       "      <th>imo</th>\n",
       "      <th></th>\n",
       "      <th></th>\n",
       "      <th></th>\n",
       "      <th></th>\n",
       "      <th></th>\n",
       "      <th></th>\n",
       "    </tr>\n",
       "  </thead>\n",
       "  <tbody>\n",
       "    <tr>\n",
       "      <th>8918966</th>\n",
       "      <td>72</td>\n",
       "      <td>72</td>\n",
       "      <td>72</td>\n",
       "      <td>72</td>\n",
       "      <td>72</td>\n",
       "      <td>72</td>\n",
       "    </tr>\n",
       "    <tr>\n",
       "      <th>9064750</th>\n",
       "      <td>129</td>\n",
       "      <td>129</td>\n",
       "      <td>129</td>\n",
       "      <td>129</td>\n",
       "      <td>129</td>\n",
       "      <td>129</td>\n",
       "    </tr>\n",
       "    <tr>\n",
       "      <th>9078464</th>\n",
       "      <td>67</td>\n",
       "      <td>67</td>\n",
       "      <td>67</td>\n",
       "      <td>67</td>\n",
       "      <td>67</td>\n",
       "      <td>67</td>\n",
       "    </tr>\n",
       "    <tr>\n",
       "      <th>9110377</th>\n",
       "      <td>7</td>\n",
       "      <td>7</td>\n",
       "      <td>7</td>\n",
       "      <td>7</td>\n",
       "      <td>7</td>\n",
       "      <td>7</td>\n",
       "    </tr>\n",
       "    <tr>\n",
       "      <th>9123154</th>\n",
       "      <td>121</td>\n",
       "      <td>121</td>\n",
       "      <td>121</td>\n",
       "      <td>121</td>\n",
       "      <td>121</td>\n",
       "      <td>121</td>\n",
       "    </tr>\n",
       "    <tr>\n",
       "      <th>...</th>\n",
       "      <td>...</td>\n",
       "      <td>...</td>\n",
       "      <td>...</td>\n",
       "      <td>...</td>\n",
       "      <td>...</td>\n",
       "      <td>...</td>\n",
       "    </tr>\n",
       "    <tr>\n",
       "      <th>9777216</th>\n",
       "      <td>264</td>\n",
       "      <td>264</td>\n",
       "      <td>264</td>\n",
       "      <td>264</td>\n",
       "      <td>264</td>\n",
       "      <td>264</td>\n",
       "    </tr>\n",
       "    <tr>\n",
       "      <th>9778076</th>\n",
       "      <td>34</td>\n",
       "      <td>34</td>\n",
       "      <td>34</td>\n",
       "      <td>34</td>\n",
       "      <td>34</td>\n",
       "      <td>34</td>\n",
       "    </tr>\n",
       "    <tr>\n",
       "      <th>9778117</th>\n",
       "      <td>13</td>\n",
       "      <td>13</td>\n",
       "      <td>13</td>\n",
       "      <td>13</td>\n",
       "      <td>13</td>\n",
       "      <td>13</td>\n",
       "    </tr>\n",
       "    <tr>\n",
       "      <th>9784336</th>\n",
       "      <td>71</td>\n",
       "      <td>71</td>\n",
       "      <td>71</td>\n",
       "      <td>71</td>\n",
       "      <td>71</td>\n",
       "      <td>71</td>\n",
       "    </tr>\n",
       "    <tr>\n",
       "      <th>9793947</th>\n",
       "      <td>119</td>\n",
       "      <td>119</td>\n",
       "      <td>119</td>\n",
       "      <td>119</td>\n",
       "      <td>119</td>\n",
       "      <td>119</td>\n",
       "    </tr>\n",
       "  </tbody>\n",
       "</table>\n",
       "<p>68 rows × 6 columns</p>\n",
       "</div>"
      ],
      "text/plain": [
       "         vessel_live_info_id  timestamp_utc  scheduled_arrival_utc  \\\n",
       "imo                                                                  \n",
       "8918966                   72             72                     72   \n",
       "9064750                  129            129                    129   \n",
       "9078464                   67             67                     67   \n",
       "9110377                    7              7                      7   \n",
       "9123154                  121            121                    121   \n",
       "...                      ...            ...                    ...   \n",
       "9777216                  264            264                    264   \n",
       "9778076                   34             34                     34   \n",
       "9778117                   13             13                     13   \n",
       "9784336                   71             71                     71   \n",
       "9793947                  119            119                    119   \n",
       "\n",
       "         estimated_arrival_utc  port_code  actual_arrival_utc  \n",
       "imo                                                            \n",
       "8918966                     72         72                  72  \n",
       "9064750                    129        129                 129  \n",
       "9078464                     67         67                  67  \n",
       "9110377                      7          7                   7  \n",
       "9123154                    121        121                 121  \n",
       "...                        ...        ...                 ...  \n",
       "9777216                    264        264                 264  \n",
       "9778076                     34         34                  34  \n",
       "9778117                     13         13                  13  \n",
       "9784336                     71         71                  71  \n",
       "9793947                    119        119                 119  \n",
       "\n",
       "[68 rows x 6 columns]"
      ]
     },
     "execution_count": 48,
     "metadata": {},
     "output_type": "execute_result"
    }
   ],
   "source": [
    "df.groupby(['imo']).count()"
   ]
  },
  {
   "cell_type": "code",
   "execution_count": 49,
   "id": "df1a0332",
   "metadata": {},
   "outputs": [],
   "source": [
    "#Actual View\n",
    "df['AV_days_ahead= ATA-ptimestamp']=df['actual_arrival_utc'].dt.date-df['timestamp_utc'].dt.date"
   ]
  },
  {
   "cell_type": "code",
   "execution_count": 50,
   "id": "06473c97",
   "metadata": {},
   "outputs": [
    {
     "data": {
      "text/plain": [
       "Timedelta('7 days 10:55:03.677593327')"
      ]
     },
     "execution_count": 50,
     "metadata": {},
     "output_type": "execute_result"
    }
   ],
   "source": [
    "df['abs(ATA-pETA)'] = (df['actual_arrival_utc']-df['estimated_arrival_utc']).abs()\n",
    "import numpy as np\n",
    "np.std(df['abs(ATA-pETA)'])"
   ]
  },
  {
   "cell_type": "code",
   "execution_count": 51,
   "id": "ce70668e",
   "metadata": {},
   "outputs": [],
   "source": [
    "#df['abs(ATA-STA)'] = (df['actual_arrival_utc']-df['scheduled_arrival_utc']).abs()"
   ]
  },
  {
   "cell_type": "code",
   "execution_count": 52,
   "id": "f4838a3e",
   "metadata": {},
   "outputs": [],
   "source": [
    "#df['abs(pETA-STA)']=(df['estimated_arrival_utc']-df['scheduled_arrival_utc']).abs()"
   ]
  },
  {
   "cell_type": "code",
   "execution_count": 53,
   "id": "95697faf",
   "metadata": {},
   "outputs": [
    {
     "data": {
      "text/html": [
       "<div>\n",
       "<style scoped>\n",
       "    .dataframe tbody tr th:only-of-type {\n",
       "        vertical-align: middle;\n",
       "    }\n",
       "\n",
       "    .dataframe tbody tr th {\n",
       "        vertical-align: top;\n",
       "    }\n",
       "\n",
       "    .dataframe thead th {\n",
       "        text-align: right;\n",
       "    }\n",
       "</style>\n",
       "<table border=\"1\" class=\"dataframe\">\n",
       "  <thead>\n",
       "    <tr style=\"text-align: right;\">\n",
       "      <th></th>\n",
       "      <th>vessel_live_info_id</th>\n",
       "      <th>timestamp_utc</th>\n",
       "      <th>scheduled_arrival_utc</th>\n",
       "      <th>estimated_arrival_utc</th>\n",
       "      <th>imo</th>\n",
       "      <th>port_code</th>\n",
       "      <th>actual_arrival_utc</th>\n",
       "      <th>AV_days_ahead= ATA-ptimestamp</th>\n",
       "      <th>abs(ATA-pETA)</th>\n",
       "    </tr>\n",
       "  </thead>\n",
       "  <tbody>\n",
       "    <tr>\n",
       "      <th>0</th>\n",
       "      <td>4e1582e1-ea33-4977-b84e-886f0095bee4</td>\n",
       "      <td>2021-07-02 02:32:29+00:00</td>\n",
       "      <td>2021-09-05 18:30:00+00:00</td>\n",
       "      <td>2021-08-07 13:50:21.965794+00:00</td>\n",
       "      <td>9393307</td>\n",
       "      <td>INMUN</td>\n",
       "      <td>2021-08-31 08:45:09.540000+00:00</td>\n",
       "      <td>60 days</td>\n",
       "      <td>23 days 18:54:47.574206</td>\n",
       "    </tr>\n",
       "    <tr>\n",
       "      <th>1</th>\n",
       "      <td>a0b4c72a-a7ec-4888-b513-77c837b0b82d</td>\n",
       "      <td>2021-07-03 03:17:16+00:00</td>\n",
       "      <td>2021-09-05 18:30:00+00:00</td>\n",
       "      <td>2021-08-07 06:24:55.229106+00:00</td>\n",
       "      <td>9393307</td>\n",
       "      <td>INMUN</td>\n",
       "      <td>2021-08-31 08:45:09.540000+00:00</td>\n",
       "      <td>59 days</td>\n",
       "      <td>24 days 02:20:14.310894</td>\n",
       "    </tr>\n",
       "    <tr>\n",
       "      <th>2</th>\n",
       "      <td>4947dc14-3471-48bc-bee1-7ba82e301182</td>\n",
       "      <td>2021-07-04 02:53:17+00:00</td>\n",
       "      <td>2021-09-05 18:30:00+00:00</td>\n",
       "      <td>2021-08-07 20:52:36.357922+00:00</td>\n",
       "      <td>9393307</td>\n",
       "      <td>INMUN</td>\n",
       "      <td>2021-08-31 08:45:09.540000+00:00</td>\n",
       "      <td>58 days</td>\n",
       "      <td>23 days 11:52:33.182078</td>\n",
       "    </tr>\n",
       "    <tr>\n",
       "      <th>3</th>\n",
       "      <td>f90f626f-1933-4c46-8749-947c2a246e0b</td>\n",
       "      <td>2021-07-04 23:55:04+00:00</td>\n",
       "      <td>2021-09-05 18:30:00+00:00</td>\n",
       "      <td>2021-08-08 16:25:14.146273+00:00</td>\n",
       "      <td>9393307</td>\n",
       "      <td>INMUN</td>\n",
       "      <td>2021-08-31 08:45:09.540000+00:00</td>\n",
       "      <td>58 days</td>\n",
       "      <td>22 days 16:19:55.393727</td>\n",
       "    </tr>\n",
       "    <tr>\n",
       "      <th>4</th>\n",
       "      <td>7ff01141-9dab-41ef-b1b7-70abc29df3ea</td>\n",
       "      <td>2021-07-06 00:33:44+00:00</td>\n",
       "      <td>2021-09-05 18:30:00+00:00</td>\n",
       "      <td>2021-08-08 15:46:31.015292+00:00</td>\n",
       "      <td>9393307</td>\n",
       "      <td>INMUN</td>\n",
       "      <td>2021-08-31 08:45:09.540000+00:00</td>\n",
       "      <td>56 days</td>\n",
       "      <td>22 days 16:58:38.524708</td>\n",
       "    </tr>\n",
       "    <tr>\n",
       "      <th>...</th>\n",
       "      <td>...</td>\n",
       "      <td>...</td>\n",
       "      <td>...</td>\n",
       "      <td>...</td>\n",
       "      <td>...</td>\n",
       "      <td>...</td>\n",
       "      <td>...</td>\n",
       "      <td>...</td>\n",
       "      <td>...</td>\n",
       "    </tr>\n",
       "    <tr>\n",
       "      <th>6342</th>\n",
       "      <td>61f2aa93-aa8b-4b4e-b827-c510f50cb773</td>\n",
       "      <td>2021-09-27 22:32:04+00:00</td>\n",
       "      <td>2021-09-23 16:00:00+00:00</td>\n",
       "      <td>2021-09-28 09:43:08.975365+00:00</td>\n",
       "      <td>9229324</td>\n",
       "      <td>CNYTN</td>\n",
       "      <td>2021-09-28 20:52:06.110000+00:00</td>\n",
       "      <td>1 days</td>\n",
       "      <td>0 days 11:08:57.134635</td>\n",
       "    </tr>\n",
       "    <tr>\n",
       "      <th>6343</th>\n",
       "      <td>b7092cac-ff73-46b0-90d2-fab50047d1aa</td>\n",
       "      <td>2021-09-28 00:10:03+00:00</td>\n",
       "      <td>2021-09-22 16:00:00+00:00</td>\n",
       "      <td>2021-09-28 22:00:29.220478+00:00</td>\n",
       "      <td>9606314</td>\n",
       "      <td>CNSHG</td>\n",
       "      <td>2021-09-29 00:18:54.230000+00:00</td>\n",
       "      <td>1 days</td>\n",
       "      <td>0 days 02:18:25.009522</td>\n",
       "    </tr>\n",
       "    <tr>\n",
       "      <th>6344</th>\n",
       "      <td>4675431b-c8e9-49c4-80a8-db87f41e6bdf</td>\n",
       "      <td>2021-09-28 04:44:10+00:00</td>\n",
       "      <td>2021-09-23 16:00:00+00:00</td>\n",
       "      <td>2021-09-28 08:32:12.671424+00:00</td>\n",
       "      <td>9229324</td>\n",
       "      <td>CNYTN</td>\n",
       "      <td>2021-09-28 20:52:06.110000+00:00</td>\n",
       "      <td>0 days</td>\n",
       "      <td>0 days 12:19:53.438576</td>\n",
       "    </tr>\n",
       "    <tr>\n",
       "      <th>6345</th>\n",
       "      <td>0b1f12c6-fe6f-4811-85c1-bc360f625fd2</td>\n",
       "      <td>2021-09-28 16:07:03+00:00</td>\n",
       "      <td>2021-09-22 16:00:00+00:00</td>\n",
       "      <td>2021-09-29 16:08:45.330866+00:00</td>\n",
       "      <td>9606314</td>\n",
       "      <td>CNSHG</td>\n",
       "      <td>2021-09-29 00:18:54.230000+00:00</td>\n",
       "      <td>1 days</td>\n",
       "      <td>0 days 15:49:51.100866</td>\n",
       "    </tr>\n",
       "    <tr>\n",
       "      <th>6346</th>\n",
       "      <td>eca1a57e-22f6-4ef0-8e22-c51d729265ed</td>\n",
       "      <td>2021-09-28 18:05:07+00:00</td>\n",
       "      <td>2021-09-22 16:00:00+00:00</td>\n",
       "      <td>2021-09-29 08:28:11.231728+00:00</td>\n",
       "      <td>9606314</td>\n",
       "      <td>CNSHG</td>\n",
       "      <td>2021-09-29 00:18:54.230000+00:00</td>\n",
       "      <td>1 days</td>\n",
       "      <td>0 days 08:09:17.001728</td>\n",
       "    </tr>\n",
       "  </tbody>\n",
       "</table>\n",
       "<p>6347 rows × 9 columns</p>\n",
       "</div>"
      ],
      "text/plain": [
       "                       vessel_live_info_id             timestamp_utc  \\\n",
       "0     4e1582e1-ea33-4977-b84e-886f0095bee4 2021-07-02 02:32:29+00:00   \n",
       "1     a0b4c72a-a7ec-4888-b513-77c837b0b82d 2021-07-03 03:17:16+00:00   \n",
       "2     4947dc14-3471-48bc-bee1-7ba82e301182 2021-07-04 02:53:17+00:00   \n",
       "3     f90f626f-1933-4c46-8749-947c2a246e0b 2021-07-04 23:55:04+00:00   \n",
       "4     7ff01141-9dab-41ef-b1b7-70abc29df3ea 2021-07-06 00:33:44+00:00   \n",
       "...                                    ...                       ...   \n",
       "6342  61f2aa93-aa8b-4b4e-b827-c510f50cb773 2021-09-27 22:32:04+00:00   \n",
       "6343  b7092cac-ff73-46b0-90d2-fab50047d1aa 2021-09-28 00:10:03+00:00   \n",
       "6344  4675431b-c8e9-49c4-80a8-db87f41e6bdf 2021-09-28 04:44:10+00:00   \n",
       "6345  0b1f12c6-fe6f-4811-85c1-bc360f625fd2 2021-09-28 16:07:03+00:00   \n",
       "6346  eca1a57e-22f6-4ef0-8e22-c51d729265ed 2021-09-28 18:05:07+00:00   \n",
       "\n",
       "         scheduled_arrival_utc            estimated_arrival_utc      imo  \\\n",
       "0    2021-09-05 18:30:00+00:00 2021-08-07 13:50:21.965794+00:00  9393307   \n",
       "1    2021-09-05 18:30:00+00:00 2021-08-07 06:24:55.229106+00:00  9393307   \n",
       "2    2021-09-05 18:30:00+00:00 2021-08-07 20:52:36.357922+00:00  9393307   \n",
       "3    2021-09-05 18:30:00+00:00 2021-08-08 16:25:14.146273+00:00  9393307   \n",
       "4    2021-09-05 18:30:00+00:00 2021-08-08 15:46:31.015292+00:00  9393307   \n",
       "...                        ...                              ...      ...   \n",
       "6342 2021-09-23 16:00:00+00:00 2021-09-28 09:43:08.975365+00:00  9229324   \n",
       "6343 2021-09-22 16:00:00+00:00 2021-09-28 22:00:29.220478+00:00  9606314   \n",
       "6344 2021-09-23 16:00:00+00:00 2021-09-28 08:32:12.671424+00:00  9229324   \n",
       "6345 2021-09-22 16:00:00+00:00 2021-09-29 16:08:45.330866+00:00  9606314   \n",
       "6346 2021-09-22 16:00:00+00:00 2021-09-29 08:28:11.231728+00:00  9606314   \n",
       "\n",
       "     port_code               actual_arrival_utc AV_days_ahead= ATA-ptimestamp  \\\n",
       "0        INMUN 2021-08-31 08:45:09.540000+00:00                       60 days   \n",
       "1        INMUN 2021-08-31 08:45:09.540000+00:00                       59 days   \n",
       "2        INMUN 2021-08-31 08:45:09.540000+00:00                       58 days   \n",
       "3        INMUN 2021-08-31 08:45:09.540000+00:00                       58 days   \n",
       "4        INMUN 2021-08-31 08:45:09.540000+00:00                       56 days   \n",
       "...        ...                              ...                           ...   \n",
       "6342     CNYTN 2021-09-28 20:52:06.110000+00:00                        1 days   \n",
       "6343     CNSHG 2021-09-29 00:18:54.230000+00:00                        1 days   \n",
       "6344     CNYTN 2021-09-28 20:52:06.110000+00:00                        0 days   \n",
       "6345     CNSHG 2021-09-29 00:18:54.230000+00:00                        1 days   \n",
       "6346     CNSHG 2021-09-29 00:18:54.230000+00:00                        1 days   \n",
       "\n",
       "               abs(ATA-pETA)  \n",
       "0    23 days 18:54:47.574206  \n",
       "1    24 days 02:20:14.310894  \n",
       "2    23 days 11:52:33.182078  \n",
       "3    22 days 16:19:55.393727  \n",
       "4    22 days 16:58:38.524708  \n",
       "...                      ...  \n",
       "6342  0 days 11:08:57.134635  \n",
       "6343  0 days 02:18:25.009522  \n",
       "6344  0 days 12:19:53.438576  \n",
       "6345  0 days 15:49:51.100866  \n",
       "6346  0 days 08:09:17.001728  \n",
       "\n",
       "[6347 rows x 9 columns]"
      ]
     },
     "execution_count": 53,
     "metadata": {},
     "output_type": "execute_result"
    }
   ],
   "source": [
    "df"
   ]
  },
  {
   "cell_type": "code",
   "execution_count": 54,
   "id": "c9af1c15",
   "metadata": {},
   "outputs": [
    {
     "data": {
      "text/plain": [
       "3965   -3 days\n",
       "3901   -3 days\n",
       "3744   -2 days\n",
       "3810   -2 days\n",
       "3706   -2 days\n",
       "         ...  \n",
       "10     79 days\n",
       "11     79 days\n",
       "12     79 days\n",
       "8      80 days\n",
       "7      80 days\n",
       "Name: AV_days_ahead= ATA-ptimestamp, Length: 6347, dtype: timedelta64[ns]"
      ]
     },
     "execution_count": 54,
     "metadata": {},
     "output_type": "execute_result"
    }
   ],
   "source": [
    "df['AV_days_ahead= ATA-ptimestamp'].sort_values()"
   ]
  },
  {
   "cell_type": "code",
   "execution_count": 55,
   "id": "05717a3c",
   "metadata": {},
   "outputs": [
    {
     "data": {
      "text/plain": [
       "count                          6347\n",
       "mean     17 days 17:29:32.490940601\n",
       "std      13 days 14:54:45.662568929\n",
       "min               -3 days +00:00:00\n",
       "25%                 7 days 00:00:00\n",
       "50%                14 days 00:00:00\n",
       "75%                26 days 00:00:00\n",
       "max                80 days 00:00:00\n",
       "Name: AV_days_ahead= ATA-ptimestamp, dtype: object"
      ]
     },
     "execution_count": 55,
     "metadata": {},
     "output_type": "execute_result"
    }
   ],
   "source": [
    "df['AV_days_ahead= ATA-ptimestamp'].describe()"
   ]
  },
  {
   "cell_type": "code",
   "execution_count": 56,
   "id": "f9235d0b",
   "metadata": {},
   "outputs": [
    {
     "data": {
      "text/plain": [
       "2290    0 days 00:00:10.862104\n",
       "2940    0 days 00:01:17.318416\n",
       "6249    0 days 00:01:33.220890\n",
       "3860    0 days 00:01:39.959217\n",
       "5420    0 days 00:02:29.574740\n",
       "                 ...          \n",
       "12     48 days 01:47:26.465745\n",
       "467    49 days 14:56:08.577201\n",
       "492    50 days 20:04:51.788939\n",
       "512    51 days 02:23:05.089503\n",
       "537    51 days 03:19:36.140894\n",
       "Name: abs(ATA-pETA), Length: 6347, dtype: timedelta64[ns]"
      ]
     },
     "execution_count": 56,
     "metadata": {},
     "output_type": "execute_result"
    }
   ],
   "source": [
    "df['abs(ATA-pETA)'].sort_values()"
   ]
  },
  {
   "cell_type": "code",
   "execution_count": 57,
   "id": "c14f25ab",
   "metadata": {},
   "outputs": [
    {
     "data": {
      "text/plain": [
       "Timedelta('6 days 21:46:13.362209044')"
      ]
     },
     "execution_count": 57,
     "metadata": {},
     "output_type": "execute_result"
    }
   ],
   "source": [
    "df['abs(ATA-pETA)'].mean()"
   ]
  },
  {
   "cell_type": "code",
   "execution_count": 58,
   "id": "557356ca",
   "metadata": {},
   "outputs": [
    {
     "data": {
      "text/plain": [
       "count                         6347\n",
       "mean     6 days 21:46:13.362209044\n",
       "std      7 days 10:55:54.424386992\n",
       "min         0 days 00:00:10.862104\n",
       "25%         1 days 11:27:47.279446\n",
       "50%         3 days 19:07:04.157047\n",
       "75%      9 days 23:40:55.260618500\n",
       "max        51 days 03:19:36.140894\n",
       "Name: abs(ATA-pETA), dtype: object"
      ]
     },
     "execution_count": 58,
     "metadata": {},
     "output_type": "execute_result"
    }
   ],
   "source": [
    "df['abs(ATA-pETA)'].describe()"
   ]
  },
  {
   "cell_type": "code",
   "execution_count": 59,
   "id": "cd443d31",
   "metadata": {},
   "outputs": [],
   "source": [
    "#df['abs(ATA-STA)'].sort_values()"
   ]
  },
  {
   "cell_type": "code",
   "execution_count": 60,
   "id": "47cb40de",
   "metadata": {},
   "outputs": [],
   "source": [
    "#df['abs(pETA-STA)'].mean()"
   ]
  },
  {
   "cell_type": "code",
   "execution_count": 61,
   "id": "a8b4d89a",
   "metadata": {},
   "outputs": [
    {
     "data": {
      "text/html": [
       "<div>\n",
       "<style scoped>\n",
       "    .dataframe tbody tr th:only-of-type {\n",
       "        vertical-align: middle;\n",
       "    }\n",
       "\n",
       "    .dataframe tbody tr th {\n",
       "        vertical-align: top;\n",
       "    }\n",
       "\n",
       "    .dataframe thead th {\n",
       "        text-align: right;\n",
       "    }\n",
       "</style>\n",
       "<table border=\"1\" class=\"dataframe\">\n",
       "  <thead>\n",
       "    <tr style=\"text-align: right;\">\n",
       "      <th></th>\n",
       "      <th>vessel_live_info_id</th>\n",
       "      <th>timestamp_utc</th>\n",
       "      <th>scheduled_arrival_utc</th>\n",
       "      <th>estimated_arrival_utc</th>\n",
       "      <th>imo</th>\n",
       "      <th>port_code</th>\n",
       "      <th>actual_arrival_utc</th>\n",
       "      <th>AV_days_ahead= ATA-ptimestamp</th>\n",
       "      <th>abs(ATA-pETA)</th>\n",
       "    </tr>\n",
       "  </thead>\n",
       "  <tbody>\n",
       "    <tr>\n",
       "      <th>0</th>\n",
       "      <td>4e1582e1-ea33-4977-b84e-886f0095bee4</td>\n",
       "      <td>2021-07-02 02:32:29+00:00</td>\n",
       "      <td>2021-09-05 18:30:00+00:00</td>\n",
       "      <td>2021-08-07 13:50:21.965794+00:00</td>\n",
       "      <td>9393307</td>\n",
       "      <td>INMUN</td>\n",
       "      <td>2021-08-31 08:45:09.540000+00:00</td>\n",
       "      <td>60 days</td>\n",
       "      <td>23 days 18:54:47.574206</td>\n",
       "    </tr>\n",
       "    <tr>\n",
       "      <th>1</th>\n",
       "      <td>a0b4c72a-a7ec-4888-b513-77c837b0b82d</td>\n",
       "      <td>2021-07-03 03:17:16+00:00</td>\n",
       "      <td>2021-09-05 18:30:00+00:00</td>\n",
       "      <td>2021-08-07 06:24:55.229106+00:00</td>\n",
       "      <td>9393307</td>\n",
       "      <td>INMUN</td>\n",
       "      <td>2021-08-31 08:45:09.540000+00:00</td>\n",
       "      <td>59 days</td>\n",
       "      <td>24 days 02:20:14.310894</td>\n",
       "    </tr>\n",
       "    <tr>\n",
       "      <th>2</th>\n",
       "      <td>4947dc14-3471-48bc-bee1-7ba82e301182</td>\n",
       "      <td>2021-07-04 02:53:17+00:00</td>\n",
       "      <td>2021-09-05 18:30:00+00:00</td>\n",
       "      <td>2021-08-07 20:52:36.357922+00:00</td>\n",
       "      <td>9393307</td>\n",
       "      <td>INMUN</td>\n",
       "      <td>2021-08-31 08:45:09.540000+00:00</td>\n",
       "      <td>58 days</td>\n",
       "      <td>23 days 11:52:33.182078</td>\n",
       "    </tr>\n",
       "    <tr>\n",
       "      <th>3</th>\n",
       "      <td>f90f626f-1933-4c46-8749-947c2a246e0b</td>\n",
       "      <td>2021-07-04 23:55:04+00:00</td>\n",
       "      <td>2021-09-05 18:30:00+00:00</td>\n",
       "      <td>2021-08-08 16:25:14.146273+00:00</td>\n",
       "      <td>9393307</td>\n",
       "      <td>INMUN</td>\n",
       "      <td>2021-08-31 08:45:09.540000+00:00</td>\n",
       "      <td>58 days</td>\n",
       "      <td>22 days 16:19:55.393727</td>\n",
       "    </tr>\n",
       "    <tr>\n",
       "      <th>4</th>\n",
       "      <td>7ff01141-9dab-41ef-b1b7-70abc29df3ea</td>\n",
       "      <td>2021-07-06 00:33:44+00:00</td>\n",
       "      <td>2021-09-05 18:30:00+00:00</td>\n",
       "      <td>2021-08-08 15:46:31.015292+00:00</td>\n",
       "      <td>9393307</td>\n",
       "      <td>INMUN</td>\n",
       "      <td>2021-08-31 08:45:09.540000+00:00</td>\n",
       "      <td>56 days</td>\n",
       "      <td>22 days 16:58:38.524708</td>\n",
       "    </tr>\n",
       "    <tr>\n",
       "      <th>...</th>\n",
       "      <td>...</td>\n",
       "      <td>...</td>\n",
       "      <td>...</td>\n",
       "      <td>...</td>\n",
       "      <td>...</td>\n",
       "      <td>...</td>\n",
       "      <td>...</td>\n",
       "      <td>...</td>\n",
       "      <td>...</td>\n",
       "    </tr>\n",
       "    <tr>\n",
       "      <th>6342</th>\n",
       "      <td>61f2aa93-aa8b-4b4e-b827-c510f50cb773</td>\n",
       "      <td>2021-09-27 22:32:04+00:00</td>\n",
       "      <td>2021-09-23 16:00:00+00:00</td>\n",
       "      <td>2021-09-28 09:43:08.975365+00:00</td>\n",
       "      <td>9229324</td>\n",
       "      <td>CNYTN</td>\n",
       "      <td>2021-09-28 20:52:06.110000+00:00</td>\n",
       "      <td>1 days</td>\n",
       "      <td>0 days 11:08:57.134635</td>\n",
       "    </tr>\n",
       "    <tr>\n",
       "      <th>6343</th>\n",
       "      <td>b7092cac-ff73-46b0-90d2-fab50047d1aa</td>\n",
       "      <td>2021-09-28 00:10:03+00:00</td>\n",
       "      <td>2021-09-22 16:00:00+00:00</td>\n",
       "      <td>2021-09-28 22:00:29.220478+00:00</td>\n",
       "      <td>9606314</td>\n",
       "      <td>CNSHG</td>\n",
       "      <td>2021-09-29 00:18:54.230000+00:00</td>\n",
       "      <td>1 days</td>\n",
       "      <td>0 days 02:18:25.009522</td>\n",
       "    </tr>\n",
       "    <tr>\n",
       "      <th>6344</th>\n",
       "      <td>4675431b-c8e9-49c4-80a8-db87f41e6bdf</td>\n",
       "      <td>2021-09-28 04:44:10+00:00</td>\n",
       "      <td>2021-09-23 16:00:00+00:00</td>\n",
       "      <td>2021-09-28 08:32:12.671424+00:00</td>\n",
       "      <td>9229324</td>\n",
       "      <td>CNYTN</td>\n",
       "      <td>2021-09-28 20:52:06.110000+00:00</td>\n",
       "      <td>0 days</td>\n",
       "      <td>0 days 12:19:53.438576</td>\n",
       "    </tr>\n",
       "    <tr>\n",
       "      <th>6345</th>\n",
       "      <td>0b1f12c6-fe6f-4811-85c1-bc360f625fd2</td>\n",
       "      <td>2021-09-28 16:07:03+00:00</td>\n",
       "      <td>2021-09-22 16:00:00+00:00</td>\n",
       "      <td>2021-09-29 16:08:45.330866+00:00</td>\n",
       "      <td>9606314</td>\n",
       "      <td>CNSHG</td>\n",
       "      <td>2021-09-29 00:18:54.230000+00:00</td>\n",
       "      <td>1 days</td>\n",
       "      <td>0 days 15:49:51.100866</td>\n",
       "    </tr>\n",
       "    <tr>\n",
       "      <th>6346</th>\n",
       "      <td>eca1a57e-22f6-4ef0-8e22-c51d729265ed</td>\n",
       "      <td>2021-09-28 18:05:07+00:00</td>\n",
       "      <td>2021-09-22 16:00:00+00:00</td>\n",
       "      <td>2021-09-29 08:28:11.231728+00:00</td>\n",
       "      <td>9606314</td>\n",
       "      <td>CNSHG</td>\n",
       "      <td>2021-09-29 00:18:54.230000+00:00</td>\n",
       "      <td>1 days</td>\n",
       "      <td>0 days 08:09:17.001728</td>\n",
       "    </tr>\n",
       "  </tbody>\n",
       "</table>\n",
       "<p>6347 rows × 9 columns</p>\n",
       "</div>"
      ],
      "text/plain": [
       "                       vessel_live_info_id             timestamp_utc  \\\n",
       "0     4e1582e1-ea33-4977-b84e-886f0095bee4 2021-07-02 02:32:29+00:00   \n",
       "1     a0b4c72a-a7ec-4888-b513-77c837b0b82d 2021-07-03 03:17:16+00:00   \n",
       "2     4947dc14-3471-48bc-bee1-7ba82e301182 2021-07-04 02:53:17+00:00   \n",
       "3     f90f626f-1933-4c46-8749-947c2a246e0b 2021-07-04 23:55:04+00:00   \n",
       "4     7ff01141-9dab-41ef-b1b7-70abc29df3ea 2021-07-06 00:33:44+00:00   \n",
       "...                                    ...                       ...   \n",
       "6342  61f2aa93-aa8b-4b4e-b827-c510f50cb773 2021-09-27 22:32:04+00:00   \n",
       "6343  b7092cac-ff73-46b0-90d2-fab50047d1aa 2021-09-28 00:10:03+00:00   \n",
       "6344  4675431b-c8e9-49c4-80a8-db87f41e6bdf 2021-09-28 04:44:10+00:00   \n",
       "6345  0b1f12c6-fe6f-4811-85c1-bc360f625fd2 2021-09-28 16:07:03+00:00   \n",
       "6346  eca1a57e-22f6-4ef0-8e22-c51d729265ed 2021-09-28 18:05:07+00:00   \n",
       "\n",
       "         scheduled_arrival_utc            estimated_arrival_utc      imo  \\\n",
       "0    2021-09-05 18:30:00+00:00 2021-08-07 13:50:21.965794+00:00  9393307   \n",
       "1    2021-09-05 18:30:00+00:00 2021-08-07 06:24:55.229106+00:00  9393307   \n",
       "2    2021-09-05 18:30:00+00:00 2021-08-07 20:52:36.357922+00:00  9393307   \n",
       "3    2021-09-05 18:30:00+00:00 2021-08-08 16:25:14.146273+00:00  9393307   \n",
       "4    2021-09-05 18:30:00+00:00 2021-08-08 15:46:31.015292+00:00  9393307   \n",
       "...                        ...                              ...      ...   \n",
       "6342 2021-09-23 16:00:00+00:00 2021-09-28 09:43:08.975365+00:00  9229324   \n",
       "6343 2021-09-22 16:00:00+00:00 2021-09-28 22:00:29.220478+00:00  9606314   \n",
       "6344 2021-09-23 16:00:00+00:00 2021-09-28 08:32:12.671424+00:00  9229324   \n",
       "6345 2021-09-22 16:00:00+00:00 2021-09-29 16:08:45.330866+00:00  9606314   \n",
       "6346 2021-09-22 16:00:00+00:00 2021-09-29 08:28:11.231728+00:00  9606314   \n",
       "\n",
       "     port_code               actual_arrival_utc AV_days_ahead= ATA-ptimestamp  \\\n",
       "0        INMUN 2021-08-31 08:45:09.540000+00:00                       60 days   \n",
       "1        INMUN 2021-08-31 08:45:09.540000+00:00                       59 days   \n",
       "2        INMUN 2021-08-31 08:45:09.540000+00:00                       58 days   \n",
       "3        INMUN 2021-08-31 08:45:09.540000+00:00                       58 days   \n",
       "4        INMUN 2021-08-31 08:45:09.540000+00:00                       56 days   \n",
       "...        ...                              ...                           ...   \n",
       "6342     CNYTN 2021-09-28 20:52:06.110000+00:00                        1 days   \n",
       "6343     CNSHG 2021-09-29 00:18:54.230000+00:00                        1 days   \n",
       "6344     CNYTN 2021-09-28 20:52:06.110000+00:00                        0 days   \n",
       "6345     CNSHG 2021-09-29 00:18:54.230000+00:00                        1 days   \n",
       "6346     CNSHG 2021-09-29 00:18:54.230000+00:00                        1 days   \n",
       "\n",
       "               abs(ATA-pETA)  \n",
       "0    23 days 18:54:47.574206  \n",
       "1    24 days 02:20:14.310894  \n",
       "2    23 days 11:52:33.182078  \n",
       "3    22 days 16:19:55.393727  \n",
       "4    22 days 16:58:38.524708  \n",
       "...                      ...  \n",
       "6342  0 days 11:08:57.134635  \n",
       "6343  0 days 02:18:25.009522  \n",
       "6344  0 days 12:19:53.438576  \n",
       "6345  0 days 15:49:51.100866  \n",
       "6346  0 days 08:09:17.001728  \n",
       "\n",
       "[6347 rows x 9 columns]"
      ]
     },
     "execution_count": 61,
     "metadata": {},
     "output_type": "execute_result"
    }
   ],
   "source": [
    "df"
   ]
  },
  {
   "cell_type": "code",
   "execution_count": 62,
   "id": "515f1187",
   "metadata": {},
   "outputs": [
    {
     "data": {
      "text/html": [
       "<div>\n",
       "<style scoped>\n",
       "    .dataframe tbody tr th:only-of-type {\n",
       "        vertical-align: middle;\n",
       "    }\n",
       "\n",
       "    .dataframe tbody tr th {\n",
       "        vertical-align: top;\n",
       "    }\n",
       "\n",
       "    .dataframe thead th {\n",
       "        text-align: right;\n",
       "    }\n",
       "</style>\n",
       "<table border=\"1\" class=\"dataframe\">\n",
       "  <thead>\n",
       "    <tr style=\"text-align: right;\">\n",
       "      <th></th>\n",
       "      <th>vessel_live_info_id</th>\n",
       "      <th>timestamp_utc</th>\n",
       "      <th>scheduled_arrival_utc</th>\n",
       "      <th>estimated_arrival_utc</th>\n",
       "      <th>imo</th>\n",
       "      <th>port_code</th>\n",
       "      <th>actual_arrival_utc</th>\n",
       "      <th>AV_days_ahead= ATA-ptimestamp</th>\n",
       "      <th>abs(ATA-pETA)</th>\n",
       "    </tr>\n",
       "  </thead>\n",
       "  <tbody>\n",
       "    <tr>\n",
       "      <th>3965</th>\n",
       "      <td>5048637f-bf9a-483e-bef7-12afda292a98</td>\n",
       "      <td>2021-09-04 17:02:36.717531+00:00</td>\n",
       "      <td>2021-09-20 02:00:00+00:00</td>\n",
       "      <td>2021-09-20 10:33:12.889369+00:00</td>\n",
       "      <td>9316373</td>\n",
       "      <td>SGSIN</td>\n",
       "      <td>2021-09-01 17:30:07+00:00</td>\n",
       "      <td>-3 days</td>\n",
       "      <td>18 days 17:03:05.889369</td>\n",
       "    </tr>\n",
       "    <tr>\n",
       "      <th>3901</th>\n",
       "      <td>70f35ce9-0a80-459d-882f-8c4fe7652060</td>\n",
       "      <td>2021-09-04 07:35:04+00:00</td>\n",
       "      <td>2021-09-20 02:00:00+00:00</td>\n",
       "      <td>2021-09-20 11:14:58.754379+00:00</td>\n",
       "      <td>9316373</td>\n",
       "      <td>SGSIN</td>\n",
       "      <td>2021-09-01 17:30:07+00:00</td>\n",
       "      <td>-3 days</td>\n",
       "      <td>18 days 17:44:51.754379</td>\n",
       "    </tr>\n",
       "    <tr>\n",
       "      <th>3744</th>\n",
       "      <td>524482f2-dd6e-4fa6-b855-82d798c820e8</td>\n",
       "      <td>2021-09-03 14:04:05+00:00</td>\n",
       "      <td>2021-09-20 02:00:00+00:00</td>\n",
       "      <td>2021-09-20 10:01:16.011660+00:00</td>\n",
       "      <td>9316373</td>\n",
       "      <td>SGSIN</td>\n",
       "      <td>2021-09-01 17:30:07+00:00</td>\n",
       "      <td>-2 days</td>\n",
       "      <td>18 days 16:31:09.011660</td>\n",
       "    </tr>\n",
       "    <tr>\n",
       "      <th>3810</th>\n",
       "      <td>a4977e62-0316-4dd3-9bb2-8261c2517dff</td>\n",
       "      <td>2021-09-03 19:58:05+00:00</td>\n",
       "      <td>2021-09-20 02:00:00+00:00</td>\n",
       "      <td>2021-09-20 13:59:52.917842+00:00</td>\n",
       "      <td>9316373</td>\n",
       "      <td>SGSIN</td>\n",
       "      <td>2021-09-01 17:30:07+00:00</td>\n",
       "      <td>-2 days</td>\n",
       "      <td>18 days 20:29:45.917842</td>\n",
       "    </tr>\n",
       "    <tr>\n",
       "      <th>3706</th>\n",
       "      <td>9c563234-3438-4837-aeb3-b67fd19578de</td>\n",
       "      <td>2021-09-03 09:45:25+00:00</td>\n",
       "      <td>2021-09-20 02:00:00+00:00</td>\n",
       "      <td>2021-09-20 21:12:42.089371+00:00</td>\n",
       "      <td>9316373</td>\n",
       "      <td>SGSIN</td>\n",
       "      <td>2021-09-01 17:30:07+00:00</td>\n",
       "      <td>-2 days</td>\n",
       "      <td>19 days 03:42:35.089371</td>\n",
       "    </tr>\n",
       "    <tr>\n",
       "      <th>...</th>\n",
       "      <td>...</td>\n",
       "      <td>...</td>\n",
       "      <td>...</td>\n",
       "      <td>...</td>\n",
       "      <td>...</td>\n",
       "      <td>...</td>\n",
       "      <td>...</td>\n",
       "      <td>...</td>\n",
       "      <td>...</td>\n",
       "    </tr>\n",
       "    <tr>\n",
       "      <th>10</th>\n",
       "      <td>767b25e3-9e13-43f5-845e-6f92e7c638bd</td>\n",
       "      <td>2021-07-07 12:26:30+00:00</td>\n",
       "      <td>2021-09-15 06:00:00+00:00</td>\n",
       "      <td>2021-09-08 18:51:32.805041+00:00</td>\n",
       "      <td>9332884</td>\n",
       "      <td>USHOU</td>\n",
       "      <td>2021-09-24 04:08:34.690000+00:00</td>\n",
       "      <td>79 days</td>\n",
       "      <td>15 days 09:17:01.884959</td>\n",
       "    </tr>\n",
       "    <tr>\n",
       "      <th>11</th>\n",
       "      <td>fc64b759-b726-4972-8d2b-58df28aa88c2</td>\n",
       "      <td>2021-07-07 14:02:29+00:00</td>\n",
       "      <td>2021-09-15 06:00:00+00:00</td>\n",
       "      <td>2021-09-08 22:25:47.355817+00:00</td>\n",
       "      <td>9332884</td>\n",
       "      <td>USHOU</td>\n",
       "      <td>2021-09-24 04:08:34.690000+00:00</td>\n",
       "      <td>79 days</td>\n",
       "      <td>15 days 05:42:47.334183</td>\n",
       "    </tr>\n",
       "    <tr>\n",
       "      <th>12</th>\n",
       "      <td>e68fef04-1886-47e7-8e53-eeabc54aebb4</td>\n",
       "      <td>2021-07-07 22:02:29+00:00</td>\n",
       "      <td>2021-09-15 06:00:00+00:00</td>\n",
       "      <td>2021-08-07 02:21:08.224255+00:00</td>\n",
       "      <td>9332884</td>\n",
       "      <td>USHOU</td>\n",
       "      <td>2021-09-24 04:08:34.690000+00:00</td>\n",
       "      <td>79 days</td>\n",
       "      <td>48 days 01:47:26.465745</td>\n",
       "    </tr>\n",
       "    <tr>\n",
       "      <th>8</th>\n",
       "      <td>fd452fcc-edb7-48a4-b1af-2969f2b31bdd</td>\n",
       "      <td>2021-07-06 21:41:30+00:00</td>\n",
       "      <td>2021-09-15 06:00:00+00:00</td>\n",
       "      <td>2021-09-08 16:42:50.604689+00:00</td>\n",
       "      <td>9332884</td>\n",
       "      <td>USHOU</td>\n",
       "      <td>2021-09-24 04:08:34.690000+00:00</td>\n",
       "      <td>80 days</td>\n",
       "      <td>15 days 11:25:44.085311</td>\n",
       "    </tr>\n",
       "    <tr>\n",
       "      <th>7</th>\n",
       "      <td>47e72105-91f6-4d11-b8ec-71e5fe8ee5a6</td>\n",
       "      <td>2021-07-06 20:05:30+00:00</td>\n",
       "      <td>2021-09-15 06:00:00+00:00</td>\n",
       "      <td>2021-09-08 18:49:40.114416+00:00</td>\n",
       "      <td>9332884</td>\n",
       "      <td>USHOU</td>\n",
       "      <td>2021-09-24 04:08:34.690000+00:00</td>\n",
       "      <td>80 days</td>\n",
       "      <td>15 days 09:18:54.575584</td>\n",
       "    </tr>\n",
       "  </tbody>\n",
       "</table>\n",
       "<p>6347 rows × 9 columns</p>\n",
       "</div>"
      ],
      "text/plain": [
       "                       vessel_live_info_id                    timestamp_utc  \\\n",
       "3965  5048637f-bf9a-483e-bef7-12afda292a98 2021-09-04 17:02:36.717531+00:00   \n",
       "3901  70f35ce9-0a80-459d-882f-8c4fe7652060        2021-09-04 07:35:04+00:00   \n",
       "3744  524482f2-dd6e-4fa6-b855-82d798c820e8        2021-09-03 14:04:05+00:00   \n",
       "3810  a4977e62-0316-4dd3-9bb2-8261c2517dff        2021-09-03 19:58:05+00:00   \n",
       "3706  9c563234-3438-4837-aeb3-b67fd19578de        2021-09-03 09:45:25+00:00   \n",
       "...                                    ...                              ...   \n",
       "10    767b25e3-9e13-43f5-845e-6f92e7c638bd        2021-07-07 12:26:30+00:00   \n",
       "11    fc64b759-b726-4972-8d2b-58df28aa88c2        2021-07-07 14:02:29+00:00   \n",
       "12    e68fef04-1886-47e7-8e53-eeabc54aebb4        2021-07-07 22:02:29+00:00   \n",
       "8     fd452fcc-edb7-48a4-b1af-2969f2b31bdd        2021-07-06 21:41:30+00:00   \n",
       "7     47e72105-91f6-4d11-b8ec-71e5fe8ee5a6        2021-07-06 20:05:30+00:00   \n",
       "\n",
       "         scheduled_arrival_utc            estimated_arrival_utc      imo  \\\n",
       "3965 2021-09-20 02:00:00+00:00 2021-09-20 10:33:12.889369+00:00  9316373   \n",
       "3901 2021-09-20 02:00:00+00:00 2021-09-20 11:14:58.754379+00:00  9316373   \n",
       "3744 2021-09-20 02:00:00+00:00 2021-09-20 10:01:16.011660+00:00  9316373   \n",
       "3810 2021-09-20 02:00:00+00:00 2021-09-20 13:59:52.917842+00:00  9316373   \n",
       "3706 2021-09-20 02:00:00+00:00 2021-09-20 21:12:42.089371+00:00  9316373   \n",
       "...                        ...                              ...      ...   \n",
       "10   2021-09-15 06:00:00+00:00 2021-09-08 18:51:32.805041+00:00  9332884   \n",
       "11   2021-09-15 06:00:00+00:00 2021-09-08 22:25:47.355817+00:00  9332884   \n",
       "12   2021-09-15 06:00:00+00:00 2021-08-07 02:21:08.224255+00:00  9332884   \n",
       "8    2021-09-15 06:00:00+00:00 2021-09-08 16:42:50.604689+00:00  9332884   \n",
       "7    2021-09-15 06:00:00+00:00 2021-09-08 18:49:40.114416+00:00  9332884   \n",
       "\n",
       "     port_code               actual_arrival_utc AV_days_ahead= ATA-ptimestamp  \\\n",
       "3965     SGSIN        2021-09-01 17:30:07+00:00                       -3 days   \n",
       "3901     SGSIN        2021-09-01 17:30:07+00:00                       -3 days   \n",
       "3744     SGSIN        2021-09-01 17:30:07+00:00                       -2 days   \n",
       "3810     SGSIN        2021-09-01 17:30:07+00:00                       -2 days   \n",
       "3706     SGSIN        2021-09-01 17:30:07+00:00                       -2 days   \n",
       "...        ...                              ...                           ...   \n",
       "10       USHOU 2021-09-24 04:08:34.690000+00:00                       79 days   \n",
       "11       USHOU 2021-09-24 04:08:34.690000+00:00                       79 days   \n",
       "12       USHOU 2021-09-24 04:08:34.690000+00:00                       79 days   \n",
       "8        USHOU 2021-09-24 04:08:34.690000+00:00                       80 days   \n",
       "7        USHOU 2021-09-24 04:08:34.690000+00:00                       80 days   \n",
       "\n",
       "               abs(ATA-pETA)  \n",
       "3965 18 days 17:03:05.889369  \n",
       "3901 18 days 17:44:51.754379  \n",
       "3744 18 days 16:31:09.011660  \n",
       "3810 18 days 20:29:45.917842  \n",
       "3706 19 days 03:42:35.089371  \n",
       "...                      ...  \n",
       "10   15 days 09:17:01.884959  \n",
       "11   15 days 05:42:47.334183  \n",
       "12   48 days 01:47:26.465745  \n",
       "8    15 days 11:25:44.085311  \n",
       "7    15 days 09:18:54.575584  \n",
       "\n",
       "[6347 rows x 9 columns]"
      ]
     },
     "execution_count": 62,
     "metadata": {},
     "output_type": "execute_result"
    }
   ],
   "source": [
    "df = df.sort_values('AV_days_ahead= ATA-ptimestamp')\n",
    "df"
   ]
  },
  {
   "cell_type": "code",
   "execution_count": 63,
   "id": "1680f6e7",
   "metadata": {},
   "outputs": [],
   "source": [
    "#Median Absolute Error , maybe for each sorted days ahead as moving MAE \n",
    "#for i in abs(ATA-pETA):\n",
    " #    = df[i].median()"
   ]
  },
  {
   "cell_type": "code",
   "execution_count": 64,
   "id": "3acf4b42",
   "metadata": {},
   "outputs": [],
   "source": [
    "#MAE"
   ]
  },
  {
   "cell_type": "code",
   "execution_count": 65,
   "id": "f959b3b8",
   "metadata": {},
   "outputs": [],
   "source": [
    "#from sklearn.metrics import median_absolute_error\n",
    "#median_absolute_error(df['actual_arrival_utc'],df['estimated_arrival_utc'])"
   ]
  },
  {
   "cell_type": "code",
   "execution_count": 66,
   "id": "05cee2c5",
   "metadata": {},
   "outputs": [],
   "source": [
    "#OTPA(for an x and y) , distribution take 1 std deviation for x and y and see\n",
    "\n"
   ]
  },
  {
   "cell_type": "code",
   "execution_count": null,
   "id": "7621b3c7",
   "metadata": {},
   "outputs": [],
   "source": []
  },
  {
   "cell_type": "code",
   "execution_count": 67,
   "id": "c1568535",
   "metadata": {},
   "outputs": [
    {
     "data": {
      "image/png": "[encoded data removed]"
     },
     "metadata": {},
     "output_type": "display_data"
    }
   ],
   "source": [
    "import plotly.express as px\n",
    "fig_df = df['actual_arrival_utc']-df['estimated_arrival_utc']\n",
    "fig = px.histogram(fig_df)\n",
    "fig.show('png')"
   ]
  },
  {
   "cell_type": "code",
   "execution_count": 68,
   "id": "42065a92",
   "metadata": {},
   "outputs": [],
   "source": [
    "#normal distri with a little bit of positive skew"
   ]
  },
  {
   "cell_type": "code",
   "execution_count": 69,
   "id": "dfe4f252",
   "metadata": {},
   "outputs": [],
   "source": [
    "#import plotly.grap_objects as go\n",
    "#fig = go.Figure()\n",
    "#fig.add_trace(x=)"
   ]
  },
  {
   "cell_type": "code",
   "execution_count": 70,
   "id": "b83c260b",
   "metadata": {},
   "outputs": [
    {
     "data": {
      "text/plain": [
       "3965   -19 days +06:56:54.110631\n",
       "3901   -19 days +06:15:08.245621\n",
       "3744   -19 days +07:28:50.988340\n",
       "3810   -19 days +03:30:14.082158\n",
       "3706   -20 days +20:17:24.910629\n",
       "                  ...           \n",
       "10       15 days 09:17:01.884959\n",
       "11       15 days 05:42:47.334183\n",
       "12       48 days 01:47:26.465745\n",
       "8        15 days 11:25:44.085311\n",
       "7        15 days 09:18:54.575584\n",
       "Length: 6347, dtype: timedelta64[ns]"
      ]
     },
     "execution_count": 70,
     "metadata": {},
     "output_type": "execute_result"
    }
   ],
   "source": [
    "#ATA-pETA follows normal distri\n",
    "fig_df"
   ]
  },
  {
   "cell_type": "code",
   "execution_count": 71,
   "id": "d4c206fa",
   "metadata": {},
   "outputs": [],
   "source": [
    "from scipy.stats import norm\n",
    "import seaborn as sns"
   ]
  },
  {
   "cell_type": "code",
   "execution_count": 72,
   "id": "4df0eca1",
   "metadata": {},
   "outputs": [],
   "source": [
    "mn = np.mean(fig_df)\n",
    "std = np.std(fig_df)"
   ]
  },
  {
   "cell_type": "code",
   "execution_count": 73,
   "id": "c89266dd",
   "metadata": {},
   "outputs": [
    {
     "name": "stderr",
     "output_type": "stream",
     "text": [
      "C:\\Users\\prash\\AppData\\Local\\Temp\\ipykernel_22944\\2457056392.py:1: UserWarning:\n",
      "\n",
      "\n",
      "\n",
      "`distplot` is a deprecated function and will be removed in seaborn v0.14.0.\n",
      "\n",
      "Please adapt your code to use either `displot` (a figure-level function with\n",
      "similar flexibility) or `histplot` (an axes-level function for histograms).\n",
      "\n",
      "For a guide to updating your code to use the new functions, please see\n",
      "https://gist.github.com/mwaskom/de44147ed2974457ad6372750bbe5751\n",
      "\n",
      "\n"
     ]
    },
    {
     "data": {
      "text/plain": [
       "<Axes: ylabel='Density'>"
      ]
     },
     "execution_count": 73,
     "metadata": {},
     "output_type": "execute_result"
    },
    {
     "data": {
      "image/png": "[encoded data removed]",
      "text/plain": [
       "<Figure size 640x480 with 1 Axes>"
      ]
     },
     "metadata": {},
     "output_type": "display_data"
    }
   ],
   "source": [
    "sns.distplot(fig_df)"
   ]
  },
  {
   "cell_type": "code",
   "execution_count": 74,
   "id": "b139ddfa",
   "metadata": {},
   "outputs": [
    {
     "data": {
      "image/png": "[encoded data removed]"
     },
     "metadata": {},
     "output_type": "display_data"
    }
   ],
   "source": [
    "fig = px.box(df['abs(ATA-pETA)'])\n",
    "fig.show('png')"
   ]
  },
  {
   "cell_type": "code",
   "execution_count": 75,
   "id": "4124079a",
   "metadata": {},
   "outputs": [],
   "source": [
    "#import plotly.figure_factory as ff\n",
    "#group_labels = ['distplot']\n",
    "#fig = ff.create_distplot(fig_df,group_labels)\n",
    "#fig.show()"
   ]
  },
  {
   "cell_type": "code",
   "execution_count": null,
   "id": "30f8c441",
   "metadata": {},
   "outputs": [],
   "source": []
  },
  {
   "cell_type": "code",
   "execution_count": 76,
   "id": "e9e48de0",
   "metadata": {},
   "outputs": [],
   "source": [
    "#"
   ]
  },
  {
   "cell_type": "code",
   "execution_count": 77,
   "id": "623b6e47",
   "metadata": {},
   "outputs": [],
   "source": [
    "from scipy.stats import norm\n",
    "import seaborn as sns\n",
    "import matplotlib.pyplot as plt"
   ]
  },
  {
   "cell_type": "code",
   "execution_count": 78,
   "id": "b6a55528",
   "metadata": {},
   "outputs": [],
   "source": [
    "diff_ATApETA = df['actual_arrival_utc']-df['estimated_arrival_utc']"
   ]
  },
  {
   "cell_type": "code",
   "execution_count": null,
   "id": "c0d3ac62",
   "metadata": {},
   "outputs": [],
   "source": []
  },
  {
   "cell_type": "code",
   "execution_count": null,
   "id": "27d7dcfa",
   "metadata": {},
   "outputs": [],
   "source": []
  },
  {
   "cell_type": "code",
   "execution_count": null,
   "id": "ad0287cc",
   "metadata": {},
   "outputs": [],
   "source": []
  },
  {
   "cell_type": "code",
   "execution_count": null,
   "id": "1adf4cac",
   "metadata": {},
   "outputs": [],
   "source": []
  },
  {
   "cell_type": "code",
   "execution_count": 79,
   "id": "5508feaf",
   "metadata": {},
   "outputs": [],
   "source": [
    "#df['ATA+MAE'] = df['actual_arrival_utc']+ MAE\n",
    "#df['ATA-MAE'] = df['actual_arrival_utc']- MAE"
   ]
  },
  {
   "cell_type": "code",
   "execution_count": 80,
   "id": "dc265bd2",
   "metadata": {},
   "outputs": [
    {
     "data": {
      "text/plain": [
       "6347"
      ]
     },
     "execution_count": 80,
     "metadata": {},
     "output_type": "execute_result"
    }
   ],
   "source": [
    "n = df.shape[0]\n",
    "n"
   ]
  },
  {
   "cell_type": "code",
   "execution_count": 81,
   "id": "2073a55f",
   "metadata": {},
   "outputs": [
    {
     "ename": "KeyError",
     "evalue": "'ATA-MAE'",
     "output_type": "error",
     "traceback": [
      "\u001b[1;31m---------------------------------------------------------------------------\u001b[0m",
      "\u001b[1;31mKeyError\u001b[0m                                  Traceback (most recent call last)",
      "File \u001b[1;32m~\\AppData\\Roaming\\Python\\Python310\\site-packages\\pandas\\core\\indexes\\base.py:3802\u001b[0m, in \u001b[0;36mIndex.get_loc\u001b[1;34m(self, key, method, tolerance)\u001b[0m\n\u001b[0;32m   3801\u001b[0m \u001b[38;5;28;01mtry\u001b[39;00m:\n\u001b[1;32m-> 3802\u001b[0m     \u001b[38;5;28;01mreturn\u001b[39;00m \u001b[38;5;28;43mself\u001b[39;49m\u001b[38;5;241;43m.\u001b[39;49m\u001b[43m_engine\u001b[49m\u001b[38;5;241;43m.\u001b[39;49m\u001b[43mget_loc\u001b[49m\u001b[43m(\u001b[49m\u001b[43mcasted_key\u001b[49m\u001b[43m)\u001b[49m\n\u001b[0;32m   3803\u001b[0m \u001b[38;5;28;01mexcept\u001b[39;00m \u001b[38;5;167;01mKeyError\u001b[39;00m \u001b[38;5;28;01mas\u001b[39;00m err:\n",
      "File \u001b[1;32m~\\AppData\\Roaming\\Python\\Python310\\site-packages\\pandas\\_libs\\index.pyx:138\u001b[0m, in \u001b[0;36mpandas._libs.index.IndexEngine.get_loc\u001b[1;34m()\u001b[0m\n",
      "File \u001b[1;32m~\\AppData\\Roaming\\Python\\Python310\\site-packages\\pandas\\_libs\\index.pyx:165\u001b[0m, in \u001b[0;36mpandas._libs.index.IndexEngine.get_loc\u001b[1;34m()\u001b[0m\n",
      "File \u001b[1;32mpandas\\_libs\\hashtable_class_helper.pxi:5745\u001b[0m, in \u001b[0;36mpandas._libs.hashtable.PyObjectHashTable.get_item\u001b[1;34m()\u001b[0m\n",
      "File \u001b[1;32mpandas\\_libs\\hashtable_class_helper.pxi:5753\u001b[0m, in \u001b[0;36mpandas._libs.hashtable.PyObjectHashTable.get_item\u001b[1;34m()\u001b[0m\n",
      "\u001b[1;31mKeyError\u001b[0m: 'ATA-MAE'",
      "\nThe above exception was the direct cause of the following exception:\n",
      "\u001b[1;31mKeyError\u001b[0m                                  Traceback (most recent call last)",
      "Cell \u001b[1;32mIn[81], line 1\u001b[0m\n\u001b[1;32m----> 1\u001b[0m OTPA \u001b[38;5;241m=\u001b[39m df[(df[\u001b[38;5;124m'\u001b[39m\u001b[38;5;124mestimated_arrival_utc\u001b[39m\u001b[38;5;124m'\u001b[39m] \u001b[38;5;241m>\u001b[39m \u001b[43mdf\u001b[49m\u001b[43m[\u001b[49m\u001b[38;5;124;43m'\u001b[39;49m\u001b[38;5;124;43mATA-MAE\u001b[39;49m\u001b[38;5;124;43m'\u001b[39;49m\u001b[43m]\u001b[49m) \u001b[38;5;241m&\u001b[39m (df[\u001b[38;5;124m'\u001b[39m\u001b[38;5;124mestimated_arrival_utc\u001b[39m\u001b[38;5;124m'\u001b[39m] \u001b[38;5;241m<\u001b[39m df[\u001b[38;5;124m'\u001b[39m\u001b[38;5;124mATA+MAE\u001b[39m\u001b[38;5;124m'\u001b[39m])]\u001b[38;5;241m.\u001b[39mshape[\u001b[38;5;241m0\u001b[39m]\u001b[38;5;241m*\u001b[39m\u001b[38;5;241m100\u001b[39m\u001b[38;5;241m/\u001b[39mn\n\u001b[0;32m      2\u001b[0m OTPA\n",
      "File \u001b[1;32m~\\AppData\\Roaming\\Python\\Python310\\site-packages\\pandas\\core\\frame.py:3807\u001b[0m, in \u001b[0;36mDataFrame.__getitem__\u001b[1;34m(self, key)\u001b[0m\n\u001b[0;32m   3805\u001b[0m \u001b[38;5;28;01mif\u001b[39;00m \u001b[38;5;28mself\u001b[39m\u001b[38;5;241m.\u001b[39mcolumns\u001b[38;5;241m.\u001b[39mnlevels \u001b[38;5;241m>\u001b[39m \u001b[38;5;241m1\u001b[39m:\n\u001b[0;32m   3806\u001b[0m     \u001b[38;5;28;01mreturn\u001b[39;00m \u001b[38;5;28mself\u001b[39m\u001b[38;5;241m.\u001b[39m_getitem_multilevel(key)\n\u001b[1;32m-> 3807\u001b[0m indexer \u001b[38;5;241m=\u001b[39m \u001b[38;5;28;43mself\u001b[39;49m\u001b[38;5;241;43m.\u001b[39;49m\u001b[43mcolumns\u001b[49m\u001b[38;5;241;43m.\u001b[39;49m\u001b[43mget_loc\u001b[49m\u001b[43m(\u001b[49m\u001b[43mkey\u001b[49m\u001b[43m)\u001b[49m\n\u001b[0;32m   3808\u001b[0m \u001b[38;5;28;01mif\u001b[39;00m is_integer(indexer):\n\u001b[0;32m   3809\u001b[0m     indexer \u001b[38;5;241m=\u001b[39m [indexer]\n",
      "File \u001b[1;32m~\\AppData\\Roaming\\Python\\Python310\\site-packages\\pandas\\core\\indexes\\base.py:3804\u001b[0m, in \u001b[0;36mIndex.get_loc\u001b[1;34m(self, key, method, tolerance)\u001b[0m\n\u001b[0;32m   3802\u001b[0m     \u001b[38;5;28;01mreturn\u001b[39;00m \u001b[38;5;28mself\u001b[39m\u001b[38;5;241m.\u001b[39m_engine\u001b[38;5;241m.\u001b[39mget_loc(casted_key)\n\u001b[0;32m   3803\u001b[0m \u001b[38;5;28;01mexcept\u001b[39;00m \u001b[38;5;167;01mKeyError\u001b[39;00m \u001b[38;5;28;01mas\u001b[39;00m err:\n\u001b[1;32m-> 3804\u001b[0m     \u001b[38;5;28;01mraise\u001b[39;00m \u001b[38;5;167;01mKeyError\u001b[39;00m(key) \u001b[38;5;28;01mfrom\u001b[39;00m \u001b[38;5;21;01merr\u001b[39;00m\n\u001b[0;32m   3805\u001b[0m \u001b[38;5;28;01mexcept\u001b[39;00m \u001b[38;5;167;01mTypeError\u001b[39;00m:\n\u001b[0;32m   3806\u001b[0m     \u001b[38;5;66;03m# If we have a listlike key, _check_indexing_error will raise\u001b[39;00m\n\u001b[0;32m   3807\u001b[0m     \u001b[38;5;66;03m#  InvalidIndexError. Otherwise we fall through and re-raise\u001b[39;00m\n\u001b[0;32m   3808\u001b[0m     \u001b[38;5;66;03m#  the TypeError.\u001b[39;00m\n\u001b[0;32m   3809\u001b[0m     \u001b[38;5;28mself\u001b[39m\u001b[38;5;241m.\u001b[39m_check_indexing_error(key)\n",
      "\u001b[1;31mKeyError\u001b[0m: 'ATA-MAE'"
     ]
    }
   ],
   "source": [
    "OTPA = df[(df['estimated_arrival_utc'] > df['ATA-MAE']) & (df['estimated_arrival_utc'] < df['ATA+MAE'])].shape[0]*100/n\n",
    "OTPA"
   ]
  },
  {
   "cell_type": "code",
   "execution_count": null,
   "id": "dc8d0026",
   "metadata": {},
   "outputs": [],
   "source": [
    "#otps distribution for different ranges have different accuracy"
   ]
  },
  {
   "cell_type": "code",
   "execution_count": null,
   "id": "0c766c31",
   "metadata": {},
   "outputs": [],
   "source": []
  },
  {
   "cell_type": "code",
   "execution_count": null,
   "id": "6c35d169",
   "metadata": {},
   "outputs": [],
   "source": []
  },
  {
   "cell_type": "code",
   "execution_count": 82,
   "id": "eb0969cd",
   "metadata": {},
   "outputs": [],
   "source": [
    "from sklearn.metrics import median_absolute_error"
   ]
  },
  {
   "cell_type": "code",
   "execution_count": 83,
   "id": "3bcdae07",
   "metadata": {},
   "outputs": [],
   "source": [
    "#median better than mean to avoid outliers"
   ]
  },
  {
   "cell_type": "code",
   "execution_count": null,
   "id": "a2b3cab9",
   "metadata": {},
   "outputs": [],
   "source": []
  },
  {
   "cell_type": "code",
   "execution_count": 84,
   "id": "fadf61f9",
   "metadata": {},
   "outputs": [],
   "source": [
    "#prediction view and actual view with different method to calc days ahead but will have come at x and y "
   ]
  },
  {
   "cell_type": "code",
   "execution_count": 85,
   "id": "b034fdea",
   "metadata": {},
   "outputs": [
    {
     "data": {
      "text/html": [
       "<div>\n",
       "<style scoped>\n",
       "    .dataframe tbody tr th:only-of-type {\n",
       "        vertical-align: middle;\n",
       "    }\n",
       "\n",
       "    .dataframe tbody tr th {\n",
       "        vertical-align: top;\n",
       "    }\n",
       "\n",
       "    .dataframe thead th {\n",
       "        text-align: right;\n",
       "    }\n",
       "</style>\n",
       "<table border=\"1\" class=\"dataframe\">\n",
       "  <thead>\n",
       "    <tr style=\"text-align: right;\">\n",
       "      <th></th>\n",
       "      <th>vessel_live_info_id</th>\n",
       "      <th>timestamp_utc</th>\n",
       "      <th>scheduled_arrival_utc</th>\n",
       "      <th>estimated_arrival_utc</th>\n",
       "      <th>imo</th>\n",
       "      <th>port_code</th>\n",
       "      <th>actual_arrival_utc</th>\n",
       "      <th>AV_days_ahead= ATA-ptimestamp</th>\n",
       "      <th>abs(ATA-pETA)</th>\n",
       "    </tr>\n",
       "  </thead>\n",
       "  <tbody>\n",
       "    <tr>\n",
       "      <th>0</th>\n",
       "      <td>5048637f-bf9a-483e-bef7-12afda292a98</td>\n",
       "      <td>2021-09-04 17:02:36.717531+00:00</td>\n",
       "      <td>2021-09-20 02:00:00+00:00</td>\n",
       "      <td>2021-09-20 10:33:12.889369+00:00</td>\n",
       "      <td>9316373</td>\n",
       "      <td>SGSIN</td>\n",
       "      <td>2021-09-01 17:30:07+00:00</td>\n",
       "      <td>-3 days</td>\n",
       "      <td>18 days 17:03:05.889369</td>\n",
       "    </tr>\n",
       "    <tr>\n",
       "      <th>1</th>\n",
       "      <td>70f35ce9-0a80-459d-882f-8c4fe7652060</td>\n",
       "      <td>2021-09-04 07:35:04+00:00</td>\n",
       "      <td>2021-09-20 02:00:00+00:00</td>\n",
       "      <td>2021-09-20 11:14:58.754379+00:00</td>\n",
       "      <td>9316373</td>\n",
       "      <td>SGSIN</td>\n",
       "      <td>2021-09-01 17:30:07+00:00</td>\n",
       "      <td>-3 days</td>\n",
       "      <td>18 days 17:44:51.754379</td>\n",
       "    </tr>\n",
       "    <tr>\n",
       "      <th>2</th>\n",
       "      <td>524482f2-dd6e-4fa6-b855-82d798c820e8</td>\n",
       "      <td>2021-09-03 14:04:05+00:00</td>\n",
       "      <td>2021-09-20 02:00:00+00:00</td>\n",
       "      <td>2021-09-20 10:01:16.011660+00:00</td>\n",
       "      <td>9316373</td>\n",
       "      <td>SGSIN</td>\n",
       "      <td>2021-09-01 17:30:07+00:00</td>\n",
       "      <td>-2 days</td>\n",
       "      <td>18 days 16:31:09.011660</td>\n",
       "    </tr>\n",
       "    <tr>\n",
       "      <th>3</th>\n",
       "      <td>a4977e62-0316-4dd3-9bb2-8261c2517dff</td>\n",
       "      <td>2021-09-03 19:58:05+00:00</td>\n",
       "      <td>2021-09-20 02:00:00+00:00</td>\n",
       "      <td>2021-09-20 13:59:52.917842+00:00</td>\n",
       "      <td>9316373</td>\n",
       "      <td>SGSIN</td>\n",
       "      <td>2021-09-01 17:30:07+00:00</td>\n",
       "      <td>-2 days</td>\n",
       "      <td>18 days 20:29:45.917842</td>\n",
       "    </tr>\n",
       "    <tr>\n",
       "      <th>4</th>\n",
       "      <td>9c563234-3438-4837-aeb3-b67fd19578de</td>\n",
       "      <td>2021-09-03 09:45:25+00:00</td>\n",
       "      <td>2021-09-20 02:00:00+00:00</td>\n",
       "      <td>2021-09-20 21:12:42.089371+00:00</td>\n",
       "      <td>9316373</td>\n",
       "      <td>SGSIN</td>\n",
       "      <td>2021-09-01 17:30:07+00:00</td>\n",
       "      <td>-2 days</td>\n",
       "      <td>19 days 03:42:35.089371</td>\n",
       "    </tr>\n",
       "    <tr>\n",
       "      <th>...</th>\n",
       "      <td>...</td>\n",
       "      <td>...</td>\n",
       "      <td>...</td>\n",
       "      <td>...</td>\n",
       "      <td>...</td>\n",
       "      <td>...</td>\n",
       "      <td>...</td>\n",
       "      <td>...</td>\n",
       "      <td>...</td>\n",
       "    </tr>\n",
       "    <tr>\n",
       "      <th>6342</th>\n",
       "      <td>767b25e3-9e13-43f5-845e-6f92e7c638bd</td>\n",
       "      <td>2021-07-07 12:26:30+00:00</td>\n",
       "      <td>2021-09-15 06:00:00+00:00</td>\n",
       "      <td>2021-09-08 18:51:32.805041+00:00</td>\n",
       "      <td>9332884</td>\n",
       "      <td>USHOU</td>\n",
       "      <td>2021-09-24 04:08:34.690000+00:00</td>\n",
       "      <td>79 days</td>\n",
       "      <td>15 days 09:17:01.884959</td>\n",
       "    </tr>\n",
       "    <tr>\n",
       "      <th>6343</th>\n",
       "      <td>fc64b759-b726-4972-8d2b-58df28aa88c2</td>\n",
       "      <td>2021-07-07 14:02:29+00:00</td>\n",
       "      <td>2021-09-15 06:00:00+00:00</td>\n",
       "      <td>2021-09-08 22:25:47.355817+00:00</td>\n",
       "      <td>9332884</td>\n",
       "      <td>USHOU</td>\n",
       "      <td>2021-09-24 04:08:34.690000+00:00</td>\n",
       "      <td>79 days</td>\n",
       "      <td>15 days 05:42:47.334183</td>\n",
       "    </tr>\n",
       "    <tr>\n",
       "      <th>6344</th>\n",
       "      <td>e68fef04-1886-47e7-8e53-eeabc54aebb4</td>\n",
       "      <td>2021-07-07 22:02:29+00:00</td>\n",
       "      <td>2021-09-15 06:00:00+00:00</td>\n",
       "      <td>2021-08-07 02:21:08.224255+00:00</td>\n",
       "      <td>9332884</td>\n",
       "      <td>USHOU</td>\n",
       "      <td>2021-09-24 04:08:34.690000+00:00</td>\n",
       "      <td>79 days</td>\n",
       "      <td>48 days 01:47:26.465745</td>\n",
       "    </tr>\n",
       "    <tr>\n",
       "      <th>6345</th>\n",
       "      <td>fd452fcc-edb7-48a4-b1af-2969f2b31bdd</td>\n",
       "      <td>2021-07-06 21:41:30+00:00</td>\n",
       "      <td>2021-09-15 06:00:00+00:00</td>\n",
       "      <td>2021-09-08 16:42:50.604689+00:00</td>\n",
       "      <td>9332884</td>\n",
       "      <td>USHOU</td>\n",
       "      <td>2021-09-24 04:08:34.690000+00:00</td>\n",
       "      <td>80 days</td>\n",
       "      <td>15 days 11:25:44.085311</td>\n",
       "    </tr>\n",
       "    <tr>\n",
       "      <th>6346</th>\n",
       "      <td>47e72105-91f6-4d11-b8ec-71e5fe8ee5a6</td>\n",
       "      <td>2021-07-06 20:05:30+00:00</td>\n",
       "      <td>2021-09-15 06:00:00+00:00</td>\n",
       "      <td>2021-09-08 18:49:40.114416+00:00</td>\n",
       "      <td>9332884</td>\n",
       "      <td>USHOU</td>\n",
       "      <td>2021-09-24 04:08:34.690000+00:00</td>\n",
       "      <td>80 days</td>\n",
       "      <td>15 days 09:18:54.575584</td>\n",
       "    </tr>\n",
       "  </tbody>\n",
       "</table>\n",
       "<p>6347 rows × 9 columns</p>\n",
       "</div>"
      ],
      "text/plain": [
       "                       vessel_live_info_id                    timestamp_utc  \\\n",
       "0     5048637f-bf9a-483e-bef7-12afda292a98 2021-09-04 17:02:36.717531+00:00   \n",
       "1     70f35ce9-0a80-459d-882f-8c4fe7652060        2021-09-04 07:35:04+00:00   \n",
       "2     524482f2-dd6e-4fa6-b855-82d798c820e8        2021-09-03 14:04:05+00:00   \n",
       "3     a4977e62-0316-4dd3-9bb2-8261c2517dff        2021-09-03 19:58:05+00:00   \n",
       "4     9c563234-3438-4837-aeb3-b67fd19578de        2021-09-03 09:45:25+00:00   \n",
       "...                                    ...                              ...   \n",
       "6342  767b25e3-9e13-43f5-845e-6f92e7c638bd        2021-07-07 12:26:30+00:00   \n",
       "6343  fc64b759-b726-4972-8d2b-58df28aa88c2        2021-07-07 14:02:29+00:00   \n",
       "6344  e68fef04-1886-47e7-8e53-eeabc54aebb4        2021-07-07 22:02:29+00:00   \n",
       "6345  fd452fcc-edb7-48a4-b1af-2969f2b31bdd        2021-07-06 21:41:30+00:00   \n",
       "6346  47e72105-91f6-4d11-b8ec-71e5fe8ee5a6        2021-07-06 20:05:30+00:00   \n",
       "\n",
       "         scheduled_arrival_utc            estimated_arrival_utc      imo  \\\n",
       "0    2021-09-20 02:00:00+00:00 2021-09-20 10:33:12.889369+00:00  9316373   \n",
       "1    2021-09-20 02:00:00+00:00 2021-09-20 11:14:58.754379+00:00  9316373   \n",
       "2    2021-09-20 02:00:00+00:00 2021-09-20 10:01:16.011660+00:00  9316373   \n",
       "3    2021-09-20 02:00:00+00:00 2021-09-20 13:59:52.917842+00:00  9316373   \n",
       "4    2021-09-20 02:00:00+00:00 2021-09-20 21:12:42.089371+00:00  9316373   \n",
       "...                        ...                              ...      ...   \n",
       "6342 2021-09-15 06:00:00+00:00 2021-09-08 18:51:32.805041+00:00  9332884   \n",
       "6343 2021-09-15 06:00:00+00:00 2021-09-08 22:25:47.355817+00:00  9332884   \n",
       "6344 2021-09-15 06:00:00+00:00 2021-08-07 02:21:08.224255+00:00  9332884   \n",
       "6345 2021-09-15 06:00:00+00:00 2021-09-08 16:42:50.604689+00:00  9332884   \n",
       "6346 2021-09-15 06:00:00+00:00 2021-09-08 18:49:40.114416+00:00  9332884   \n",
       "\n",
       "     port_code               actual_arrival_utc AV_days_ahead= ATA-ptimestamp  \\\n",
       "0        SGSIN        2021-09-01 17:30:07+00:00                       -3 days   \n",
       "1        SGSIN        2021-09-01 17:30:07+00:00                       -3 days   \n",
       "2        SGSIN        2021-09-01 17:30:07+00:00                       -2 days   \n",
       "3        SGSIN        2021-09-01 17:30:07+00:00                       -2 days   \n",
       "4        SGSIN        2021-09-01 17:30:07+00:00                       -2 days   \n",
       "...        ...                              ...                           ...   \n",
       "6342     USHOU 2021-09-24 04:08:34.690000+00:00                       79 days   \n",
       "6343     USHOU 2021-09-24 04:08:34.690000+00:00                       79 days   \n",
       "6344     USHOU 2021-09-24 04:08:34.690000+00:00                       79 days   \n",
       "6345     USHOU 2021-09-24 04:08:34.690000+00:00                       80 days   \n",
       "6346     USHOU 2021-09-24 04:08:34.690000+00:00                       80 days   \n",
       "\n",
       "               abs(ATA-pETA)  \n",
       "0    18 days 17:03:05.889369  \n",
       "1    18 days 17:44:51.754379  \n",
       "2    18 days 16:31:09.011660  \n",
       "3    18 days 20:29:45.917842  \n",
       "4    19 days 03:42:35.089371  \n",
       "...                      ...  \n",
       "6342 15 days 09:17:01.884959  \n",
       "6343 15 days 05:42:47.334183  \n",
       "6344 48 days 01:47:26.465745  \n",
       "6345 15 days 11:25:44.085311  \n",
       "6346 15 days 09:18:54.575584  \n",
       "\n",
       "[6347 rows x 9 columns]"
      ]
     },
     "execution_count": 85,
     "metadata": {},
     "output_type": "execute_result"
    }
   ],
   "source": [
    "df =df.reset_index(drop=True)\n",
    "df"
   ]
  },
  {
   "cell_type": "code",
   "execution_count": 86,
   "id": "583fb0d8",
   "metadata": {},
   "outputs": [],
   "source": [
    "#Prediction View X_days = days ahead = (pETA - pTimestamp)\n",
    " \n",
    "df['PV_days_ahead= pETA-timestamp']=df['estimated_arrival_utc']-df['timestamp_utc']\n"
   ]
  },
  {
   "cell_type": "code",
   "execution_count": 87,
   "id": "cc01f69c",
   "metadata": {},
   "outputs": [
    {
     "data": {
      "text/html": [
       "<div>\n",
       "<style scoped>\n",
       "    .dataframe tbody tr th:only-of-type {\n",
       "        vertical-align: middle;\n",
       "    }\n",
       "\n",
       "    .dataframe tbody tr th {\n",
       "        vertical-align: top;\n",
       "    }\n",
       "\n",
       "    .dataframe thead th {\n",
       "        text-align: right;\n",
       "    }\n",
       "</style>\n",
       "<table border=\"1\" class=\"dataframe\">\n",
       "  <thead>\n",
       "    <tr style=\"text-align: right;\">\n",
       "      <th></th>\n",
       "      <th>vessel_live_info_id</th>\n",
       "      <th>timestamp_utc</th>\n",
       "      <th>scheduled_arrival_utc</th>\n",
       "      <th>estimated_arrival_utc</th>\n",
       "      <th>imo</th>\n",
       "      <th>port_code</th>\n",
       "      <th>actual_arrival_utc</th>\n",
       "      <th>AV_days_ahead= ATA-ptimestamp</th>\n",
       "      <th>abs(ATA-pETA)</th>\n",
       "      <th>PV_days_ahead= pETA-timestamp</th>\n",
       "    </tr>\n",
       "  </thead>\n",
       "  <tbody>\n",
       "  </tbody>\n",
       "</table>\n",
       "</div>"
      ],
      "text/plain": [
       "Empty DataFrame\n",
       "Columns: [vessel_live_info_id, timestamp_utc, scheduled_arrival_utc, estimated_arrival_utc, imo, port_code, actual_arrival_utc, AV_days_ahead= ATA-ptimestamp, abs(ATA-pETA), PV_days_ahead= pETA-timestamp]\n",
       "Index: []"
      ]
     },
     "execution_count": 87,
     "metadata": {},
     "output_type": "execute_result"
    }
   ],
   "source": [
    "df[df['abs(ATA-pETA)']== 0]"
   ]
  },
  {
   "cell_type": "code",
   "execution_count": null,
   "id": "7ce99988",
   "metadata": {},
   "outputs": [],
   "source": []
  },
  {
   "cell_type": "code",
   "execution_count": 88,
   "id": "8dbe2041",
   "metadata": {},
   "outputs": [],
   "source": [
    "#MAE is right\n",
    "#otpa need different ranges which could be get from normal distri curve with 1 std deviation on one side and calc accuracy\n",
    "#prediction view x = days ahead\n",
    "#one graph with both estimated and actual line graph\n",
    "#graph where y = accuracy and otpa vs x = days ahead for prediction view and actual view\n"
   ]
  },
  {
   "cell_type": "code",
   "execution_count": 89,
   "id": "5543da96",
   "metadata": {},
   "outputs": [],
   "source": [
    "import numpy as np\n",
    "import pandas as pd\n",
    "import seaborn as sns\n",
    "import cufflinks as cf\n",
    "import chart_studio.plotly as py\n",
    "import plotly.express as px\n",
    "%matplotlib inline"
   ]
  },
  {
   "cell_type": "code",
   "execution_count": 90,
   "id": "6520b7e8",
   "metadata": {},
   "outputs": [
    {
     "data": {
      "text/html": [
       "        <script type=\"text/javascript\">\n",
       "        window.PlotlyConfig = {MathJaxConfig: 'local'};\n",
       "        if (window.MathJax && window.MathJax.Hub && window.MathJax.Hub.Config) {window.MathJax.Hub.Config({SVG: {font: \"STIX-Web\"}});}\n",
       "        if (typeof require !== 'undefined') {\n",
       "        require.undef(\"plotly\");\n",
       "        requirejs.config({\n",
       "            paths: {\n",
       "                'plotly': ['https://cdn.plot.ly/plotly-2.12.1.min']\n",
       "            }\n",
       "        });\n",
       "        require(['plotly'], function(Plotly) {\n",
       "            window._Plotly = Plotly;\n",
       "        });\n",
       "        }\n",
       "        </script>\n",
       "        "
      ]
     },
     "metadata": {},
     "output_type": "display_data"
    }
   ],
   "source": [
    "from plotly.offline import download_plotlyjs, init_notebook_mode, plot, iplot\n",
    "init_notebook_mode(connected=True)\n",
    "# Use Plotly locally\n",
    "#cf.go_offline()\n"
   ]
  },
  {
   "cell_type": "code",
   "execution_count": 91,
   "id": "4dade6b2",
   "metadata": {},
   "outputs": [
    {
     "ename": "KeyError",
     "evalue": "'diff_ATA_ETA'",
     "output_type": "error",
     "traceback": [
      "\u001b[1;31m---------------------------------------------------------------------------\u001b[0m",
      "\u001b[1;31mKeyError\u001b[0m                                  Traceback (most recent call last)",
      "File \u001b[1;32m~\\AppData\\Roaming\\Python\\Python310\\site-packages\\pandas\\core\\indexes\\base.py:3802\u001b[0m, in \u001b[0;36mIndex.get_loc\u001b[1;34m(self, key, method, tolerance)\u001b[0m\n\u001b[0;32m   3801\u001b[0m \u001b[38;5;28;01mtry\u001b[39;00m:\n\u001b[1;32m-> 3802\u001b[0m     \u001b[38;5;28;01mreturn\u001b[39;00m \u001b[38;5;28;43mself\u001b[39;49m\u001b[38;5;241;43m.\u001b[39;49m\u001b[43m_engine\u001b[49m\u001b[38;5;241;43m.\u001b[39;49m\u001b[43mget_loc\u001b[49m\u001b[43m(\u001b[49m\u001b[43mcasted_key\u001b[49m\u001b[43m)\u001b[49m\n\u001b[0;32m   3803\u001b[0m \u001b[38;5;28;01mexcept\u001b[39;00m \u001b[38;5;167;01mKeyError\u001b[39;00m \u001b[38;5;28;01mas\u001b[39;00m err:\n",
      "File \u001b[1;32m~\\AppData\\Roaming\\Python\\Python310\\site-packages\\pandas\\_libs\\index.pyx:138\u001b[0m, in \u001b[0;36mpandas._libs.index.IndexEngine.get_loc\u001b[1;34m()\u001b[0m\n",
      "File \u001b[1;32m~\\AppData\\Roaming\\Python\\Python310\\site-packages\\pandas\\_libs\\index.pyx:165\u001b[0m, in \u001b[0;36mpandas._libs.index.IndexEngine.get_loc\u001b[1;34m()\u001b[0m\n",
      "File \u001b[1;32mpandas\\_libs\\hashtable_class_helper.pxi:5745\u001b[0m, in \u001b[0;36mpandas._libs.hashtable.PyObjectHashTable.get_item\u001b[1;34m()\u001b[0m\n",
      "File \u001b[1;32mpandas\\_libs\\hashtable_class_helper.pxi:5753\u001b[0m, in \u001b[0;36mpandas._libs.hashtable.PyObjectHashTable.get_item\u001b[1;34m()\u001b[0m\n",
      "\u001b[1;31mKeyError\u001b[0m: 'diff_ATA_ETA'",
      "\nThe above exception was the direct cause of the following exception:\n",
      "\u001b[1;31mKeyError\u001b[0m                                  Traceback (most recent call last)",
      "Cell \u001b[1;32mIn[91], line 2\u001b[0m\n\u001b[0;32m      1\u001b[0m \u001b[38;5;28;01mimport\u001b[39;00m \u001b[38;5;21;01mplotly\u001b[39;00m\u001b[38;5;21;01m.\u001b[39;00m\u001b[38;5;21;01mgraph_objects\u001b[39;00m \u001b[38;5;28;01mas\u001b[39;00m \u001b[38;5;21;01mgo\u001b[39;00m\n\u001b[1;32m----> 2\u001b[0m px\u001b[38;5;241m.\u001b[39mline(\u001b[43mdf\u001b[49m\u001b[43m[\u001b[49m\u001b[38;5;124;43m'\u001b[39;49m\u001b[38;5;124;43mdiff_ATA_ETA\u001b[39;49m\u001b[38;5;124;43m'\u001b[39;49m\u001b[43m]\u001b[49m \u001b[38;5;241m.\u001b[39mabs())\n",
      "File \u001b[1;32m~\\AppData\\Roaming\\Python\\Python310\\site-packages\\pandas\\core\\frame.py:3807\u001b[0m, in \u001b[0;36mDataFrame.__getitem__\u001b[1;34m(self, key)\u001b[0m\n\u001b[0;32m   3805\u001b[0m \u001b[38;5;28;01mif\u001b[39;00m \u001b[38;5;28mself\u001b[39m\u001b[38;5;241m.\u001b[39mcolumns\u001b[38;5;241m.\u001b[39mnlevels \u001b[38;5;241m>\u001b[39m \u001b[38;5;241m1\u001b[39m:\n\u001b[0;32m   3806\u001b[0m     \u001b[38;5;28;01mreturn\u001b[39;00m \u001b[38;5;28mself\u001b[39m\u001b[38;5;241m.\u001b[39m_getitem_multilevel(key)\n\u001b[1;32m-> 3807\u001b[0m indexer \u001b[38;5;241m=\u001b[39m \u001b[38;5;28;43mself\u001b[39;49m\u001b[38;5;241;43m.\u001b[39;49m\u001b[43mcolumns\u001b[49m\u001b[38;5;241;43m.\u001b[39;49m\u001b[43mget_loc\u001b[49m\u001b[43m(\u001b[49m\u001b[43mkey\u001b[49m\u001b[43m)\u001b[49m\n\u001b[0;32m   3808\u001b[0m \u001b[38;5;28;01mif\u001b[39;00m is_integer(indexer):\n\u001b[0;32m   3809\u001b[0m     indexer \u001b[38;5;241m=\u001b[39m [indexer]\n",
      "File \u001b[1;32m~\\AppData\\Roaming\\Python\\Python310\\site-packages\\pandas\\core\\indexes\\base.py:3804\u001b[0m, in \u001b[0;36mIndex.get_loc\u001b[1;34m(self, key, method, tolerance)\u001b[0m\n\u001b[0;32m   3802\u001b[0m     \u001b[38;5;28;01mreturn\u001b[39;00m \u001b[38;5;28mself\u001b[39m\u001b[38;5;241m.\u001b[39m_engine\u001b[38;5;241m.\u001b[39mget_loc(casted_key)\n\u001b[0;32m   3803\u001b[0m \u001b[38;5;28;01mexcept\u001b[39;00m \u001b[38;5;167;01mKeyError\u001b[39;00m \u001b[38;5;28;01mas\u001b[39;00m err:\n\u001b[1;32m-> 3804\u001b[0m     \u001b[38;5;28;01mraise\u001b[39;00m \u001b[38;5;167;01mKeyError\u001b[39;00m(key) \u001b[38;5;28;01mfrom\u001b[39;00m \u001b[38;5;21;01merr\u001b[39;00m\n\u001b[0;32m   3805\u001b[0m \u001b[38;5;28;01mexcept\u001b[39;00m \u001b[38;5;167;01mTypeError\u001b[39;00m:\n\u001b[0;32m   3806\u001b[0m     \u001b[38;5;66;03m# If we have a listlike key, _check_indexing_error will raise\u001b[39;00m\n\u001b[0;32m   3807\u001b[0m     \u001b[38;5;66;03m#  InvalidIndexError. Otherwise we fall through and re-raise\u001b[39;00m\n\u001b[0;32m   3808\u001b[0m     \u001b[38;5;66;03m#  the TypeError.\u001b[39;00m\n\u001b[0;32m   3809\u001b[0m     \u001b[38;5;28mself\u001b[39m\u001b[38;5;241m.\u001b[39m_check_indexing_error(key)\n",
      "\u001b[1;31mKeyError\u001b[0m: 'diff_ATA_ETA'"
     ]
    }
   ],
   "source": [
    "import plotly.graph_objects as go\n",
    "px.line(df['diff_ATA_ETA'] .abs())"
   ]
  },
  {
   "cell_type": "code",
   "execution_count": 92,
   "id": "8685c6e1",
   "metadata": {},
   "outputs": [],
   "source": [
    "#diff_ATApETA =\n",
    "df['diff_ATA_ETA'] = df['actual_arrival_utc'].dt.date-df['estimated_arrival_utc'].dt.date"
   ]
  },
  {
   "cell_type": "code",
   "execution_count": null,
   "id": "ee42ee6f",
   "metadata": {},
   "outputs": [],
   "source": []
  },
  {
   "cell_type": "code",
   "execution_count": 93,
   "id": "16ab311d",
   "metadata": {},
   "outputs": [
    {
     "data": {
      "image/png": "[encoded data removed]"
     },
     "metadata": {},
     "output_type": "display_data"
    }
   ],
   "source": [
    "fig = px.box(df['diff_ATA_ETA'].abs(), points = 'all') # absolute value difference between actual and estimated in days skewing towards zero , need to see more\n",
    "\n",
    "fig.show('png')"
   ]
  },
  {
   "cell_type": "code",
   "execution_count": 94,
   "id": "6b51b24b",
   "metadata": {},
   "outputs": [
    {
     "data": {
      "image/png": "[encoded data removed]"
     },
     "metadata": {},
     "output_type": "display_data"
    }
   ],
   "source": [
    "fig = px.histogram(df, x='diff_ATA_ETA')\n",
    "fig.show('png')"
   ]
  },
  {
   "cell_type": "code",
   "execution_count": 95,
   "id": "ea43e823",
   "metadata": {},
   "outputs": [
    {
     "name": "stderr",
     "output_type": "stream",
     "text": [
      "C:\\Users\\prash\\AppData\\Local\\Temp\\ipykernel_22944\\4037887601.py:1: UserWarning:\n",
      "\n",
      "\n",
      "\n",
      "`distplot` is a deprecated function and will be removed in seaborn v0.14.0.\n",
      "\n",
      "Please adapt your code to use either `displot` (a figure-level function with\n",
      "similar flexibility) or `histplot` (an axes-level function for histograms).\n",
      "\n",
      "For a guide to updating your code to use the new functions, please see\n",
      "https://gist.github.com/mwaskom/de44147ed2974457ad6372750bbe5751\n",
      "\n",
      "\n"
     ]
    },
    {
     "data": {
      "text/plain": [
       "<Axes: xlabel='diff_ATA_ETA', ylabel='Density'>"
      ]
     },
     "execution_count": 95,
     "metadata": {},
     "output_type": "execute_result"
    },
    {
     "data": {
      "image/png": "[encoded data removed]",
      "text/plain": [
       "<Figure size 640x480 with 1 Axes>"
      ]
     },
     "metadata": {},
     "output_type": "display_data"
    }
   ],
   "source": [
    "sns.distplot(df['diff_ATA_ETA'])\n"
   ]
  },
  {
   "cell_type": "code",
   "execution_count": 96,
   "id": "b12be523",
   "metadata": {},
   "outputs": [
    {
     "data": {
      "text/html": [
       "<div>\n",
       "<style scoped>\n",
       "    .dataframe tbody tr th:only-of-type {\n",
       "        vertical-align: middle;\n",
       "    }\n",
       "\n",
       "    .dataframe tbody tr th {\n",
       "        vertical-align: top;\n",
       "    }\n",
       "\n",
       "    .dataframe thead th {\n",
       "        text-align: right;\n",
       "    }\n",
       "</style>\n",
       "<table border=\"1\" class=\"dataframe\">\n",
       "  <thead>\n",
       "    <tr style=\"text-align: right;\">\n",
       "      <th></th>\n",
       "      <th>vessel_live_info_id</th>\n",
       "      <th>timestamp_utc</th>\n",
       "      <th>scheduled_arrival_utc</th>\n",
       "      <th>estimated_arrival_utc</th>\n",
       "      <th>imo</th>\n",
       "      <th>port_code</th>\n",
       "      <th>actual_arrival_utc</th>\n",
       "      <th>AV_days_ahead= ATA-ptimestamp</th>\n",
       "      <th>abs(ATA-pETA)</th>\n",
       "      <th>PV_days_ahead= pETA-timestamp</th>\n",
       "      <th>diff_ATA_ETA</th>\n",
       "    </tr>\n",
       "  </thead>\n",
       "  <tbody>\n",
       "    <tr>\n",
       "      <th>0</th>\n",
       "      <td>5048637f-bf9a-483e-bef7-12afda292a98</td>\n",
       "      <td>2021-09-04 17:02:36.717531+00:00</td>\n",
       "      <td>2021-09-20 02:00:00+00:00</td>\n",
       "      <td>2021-09-20 10:33:12.889369+00:00</td>\n",
       "      <td>9316373</td>\n",
       "      <td>SGSIN</td>\n",
       "      <td>2021-09-01 17:30:07+00:00</td>\n",
       "      <td>-3 days</td>\n",
       "      <td>18 days 17:03:05.889369</td>\n",
       "      <td>15 days 17:30:36.171838</td>\n",
       "      <td>-19 days</td>\n",
       "    </tr>\n",
       "    <tr>\n",
       "      <th>1</th>\n",
       "      <td>70f35ce9-0a80-459d-882f-8c4fe7652060</td>\n",
       "      <td>2021-09-04 07:35:04+00:00</td>\n",
       "      <td>2021-09-20 02:00:00+00:00</td>\n",
       "      <td>2021-09-20 11:14:58.754379+00:00</td>\n",
       "      <td>9316373</td>\n",
       "      <td>SGSIN</td>\n",
       "      <td>2021-09-01 17:30:07+00:00</td>\n",
       "      <td>-3 days</td>\n",
       "      <td>18 days 17:44:51.754379</td>\n",
       "      <td>16 days 03:39:54.754379</td>\n",
       "      <td>-19 days</td>\n",
       "    </tr>\n",
       "    <tr>\n",
       "      <th>2</th>\n",
       "      <td>524482f2-dd6e-4fa6-b855-82d798c820e8</td>\n",
       "      <td>2021-09-03 14:04:05+00:00</td>\n",
       "      <td>2021-09-20 02:00:00+00:00</td>\n",
       "      <td>2021-09-20 10:01:16.011660+00:00</td>\n",
       "      <td>9316373</td>\n",
       "      <td>SGSIN</td>\n",
       "      <td>2021-09-01 17:30:07+00:00</td>\n",
       "      <td>-2 days</td>\n",
       "      <td>18 days 16:31:09.011660</td>\n",
       "      <td>16 days 19:57:11.011660</td>\n",
       "      <td>-19 days</td>\n",
       "    </tr>\n",
       "    <tr>\n",
       "      <th>3</th>\n",
       "      <td>a4977e62-0316-4dd3-9bb2-8261c2517dff</td>\n",
       "      <td>2021-09-03 19:58:05+00:00</td>\n",
       "      <td>2021-09-20 02:00:00+00:00</td>\n",
       "      <td>2021-09-20 13:59:52.917842+00:00</td>\n",
       "      <td>9316373</td>\n",
       "      <td>SGSIN</td>\n",
       "      <td>2021-09-01 17:30:07+00:00</td>\n",
       "      <td>-2 days</td>\n",
       "      <td>18 days 20:29:45.917842</td>\n",
       "      <td>16 days 18:01:47.917842</td>\n",
       "      <td>-19 days</td>\n",
       "    </tr>\n",
       "    <tr>\n",
       "      <th>4</th>\n",
       "      <td>9c563234-3438-4837-aeb3-b67fd19578de</td>\n",
       "      <td>2021-09-03 09:45:25+00:00</td>\n",
       "      <td>2021-09-20 02:00:00+00:00</td>\n",
       "      <td>2021-09-20 21:12:42.089371+00:00</td>\n",
       "      <td>9316373</td>\n",
       "      <td>SGSIN</td>\n",
       "      <td>2021-09-01 17:30:07+00:00</td>\n",
       "      <td>-2 days</td>\n",
       "      <td>19 days 03:42:35.089371</td>\n",
       "      <td>17 days 11:27:17.089371</td>\n",
       "      <td>-19 days</td>\n",
       "    </tr>\n",
       "    <tr>\n",
       "      <th>...</th>\n",
       "      <td>...</td>\n",
       "      <td>...</td>\n",
       "      <td>...</td>\n",
       "      <td>...</td>\n",
       "      <td>...</td>\n",
       "      <td>...</td>\n",
       "      <td>...</td>\n",
       "      <td>...</td>\n",
       "      <td>...</td>\n",
       "      <td>...</td>\n",
       "      <td>...</td>\n",
       "    </tr>\n",
       "    <tr>\n",
       "      <th>6342</th>\n",
       "      <td>767b25e3-9e13-43f5-845e-6f92e7c638bd</td>\n",
       "      <td>2021-07-07 12:26:30+00:00</td>\n",
       "      <td>2021-09-15 06:00:00+00:00</td>\n",
       "      <td>2021-09-08 18:51:32.805041+00:00</td>\n",
       "      <td>9332884</td>\n",
       "      <td>USHOU</td>\n",
       "      <td>2021-09-24 04:08:34.690000+00:00</td>\n",
       "      <td>79 days</td>\n",
       "      <td>15 days 09:17:01.884959</td>\n",
       "      <td>63 days 06:25:02.805041</td>\n",
       "      <td>16 days</td>\n",
       "    </tr>\n",
       "    <tr>\n",
       "      <th>6343</th>\n",
       "      <td>fc64b759-b726-4972-8d2b-58df28aa88c2</td>\n",
       "      <td>2021-07-07 14:02:29+00:00</td>\n",
       "      <td>2021-09-15 06:00:00+00:00</td>\n",
       "      <td>2021-09-08 22:25:47.355817+00:00</td>\n",
       "      <td>9332884</td>\n",
       "      <td>USHOU</td>\n",
       "      <td>2021-09-24 04:08:34.690000+00:00</td>\n",
       "      <td>79 days</td>\n",
       "      <td>15 days 05:42:47.334183</td>\n",
       "      <td>63 days 08:23:18.355817</td>\n",
       "      <td>16 days</td>\n",
       "    </tr>\n",
       "    <tr>\n",
       "      <th>6344</th>\n",
       "      <td>e68fef04-1886-47e7-8e53-eeabc54aebb4</td>\n",
       "      <td>2021-07-07 22:02:29+00:00</td>\n",
       "      <td>2021-09-15 06:00:00+00:00</td>\n",
       "      <td>2021-08-07 02:21:08.224255+00:00</td>\n",
       "      <td>9332884</td>\n",
       "      <td>USHOU</td>\n",
       "      <td>2021-09-24 04:08:34.690000+00:00</td>\n",
       "      <td>79 days</td>\n",
       "      <td>48 days 01:47:26.465745</td>\n",
       "      <td>30 days 04:18:39.224255</td>\n",
       "      <td>48 days</td>\n",
       "    </tr>\n",
       "    <tr>\n",
       "      <th>6345</th>\n",
       "      <td>fd452fcc-edb7-48a4-b1af-2969f2b31bdd</td>\n",
       "      <td>2021-07-06 21:41:30+00:00</td>\n",
       "      <td>2021-09-15 06:00:00+00:00</td>\n",
       "      <td>2021-09-08 16:42:50.604689+00:00</td>\n",
       "      <td>9332884</td>\n",
       "      <td>USHOU</td>\n",
       "      <td>2021-09-24 04:08:34.690000+00:00</td>\n",
       "      <td>80 days</td>\n",
       "      <td>15 days 11:25:44.085311</td>\n",
       "      <td>63 days 19:01:20.604689</td>\n",
       "      <td>16 days</td>\n",
       "    </tr>\n",
       "    <tr>\n",
       "      <th>6346</th>\n",
       "      <td>47e72105-91f6-4d11-b8ec-71e5fe8ee5a6</td>\n",
       "      <td>2021-07-06 20:05:30+00:00</td>\n",
       "      <td>2021-09-15 06:00:00+00:00</td>\n",
       "      <td>2021-09-08 18:49:40.114416+00:00</td>\n",
       "      <td>9332884</td>\n",
       "      <td>USHOU</td>\n",
       "      <td>2021-09-24 04:08:34.690000+00:00</td>\n",
       "      <td>80 days</td>\n",
       "      <td>15 days 09:18:54.575584</td>\n",
       "      <td>63 days 22:44:10.114416</td>\n",
       "      <td>16 days</td>\n",
       "    </tr>\n",
       "  </tbody>\n",
       "</table>\n",
       "<p>6347 rows × 11 columns</p>\n",
       "</div>"
      ],
      "text/plain": [
       "                       vessel_live_info_id                    timestamp_utc  \\\n",
       "0     5048637f-bf9a-483e-bef7-12afda292a98 2021-09-04 17:02:36.717531+00:00   \n",
       "1     70f35ce9-0a80-459d-882f-8c4fe7652060        2021-09-04 07:35:04+00:00   \n",
       "2     524482f2-dd6e-4fa6-b855-82d798c820e8        2021-09-03 14:04:05+00:00   \n",
       "3     a4977e62-0316-4dd3-9bb2-8261c2517dff        2021-09-03 19:58:05+00:00   \n",
       "4     9c563234-3438-4837-aeb3-b67fd19578de        2021-09-03 09:45:25+00:00   \n",
       "...                                    ...                              ...   \n",
       "6342  767b25e3-9e13-43f5-845e-6f92e7c638bd        2021-07-07 12:26:30+00:00   \n",
       "6343  fc64b759-b726-4972-8d2b-58df28aa88c2        2021-07-07 14:02:29+00:00   \n",
       "6344  e68fef04-1886-47e7-8e53-eeabc54aebb4        2021-07-07 22:02:29+00:00   \n",
       "6345  fd452fcc-edb7-48a4-b1af-2969f2b31bdd        2021-07-06 21:41:30+00:00   \n",
       "6346  47e72105-91f6-4d11-b8ec-71e5fe8ee5a6        2021-07-06 20:05:30+00:00   \n",
       "\n",
       "         scheduled_arrival_utc            estimated_arrival_utc      imo  \\\n",
       "0    2021-09-20 02:00:00+00:00 2021-09-20 10:33:12.889369+00:00  9316373   \n",
       "1    2021-09-20 02:00:00+00:00 2021-09-20 11:14:58.754379+00:00  9316373   \n",
       "2    2021-09-20 02:00:00+00:00 2021-09-20 10:01:16.011660+00:00  9316373   \n",
       "3    2021-09-20 02:00:00+00:00 2021-09-20 13:59:52.917842+00:00  9316373   \n",
       "4    2021-09-20 02:00:00+00:00 2021-09-20 21:12:42.089371+00:00  9316373   \n",
       "...                        ...                              ...      ...   \n",
       "6342 2021-09-15 06:00:00+00:00 2021-09-08 18:51:32.805041+00:00  9332884   \n",
       "6343 2021-09-15 06:00:00+00:00 2021-09-08 22:25:47.355817+00:00  9332884   \n",
       "6344 2021-09-15 06:00:00+00:00 2021-08-07 02:21:08.224255+00:00  9332884   \n",
       "6345 2021-09-15 06:00:00+00:00 2021-09-08 16:42:50.604689+00:00  9332884   \n",
       "6346 2021-09-15 06:00:00+00:00 2021-09-08 18:49:40.114416+00:00  9332884   \n",
       "\n",
       "     port_code               actual_arrival_utc AV_days_ahead= ATA-ptimestamp  \\\n",
       "0        SGSIN        2021-09-01 17:30:07+00:00                       -3 days   \n",
       "1        SGSIN        2021-09-01 17:30:07+00:00                       -3 days   \n",
       "2        SGSIN        2021-09-01 17:30:07+00:00                       -2 days   \n",
       "3        SGSIN        2021-09-01 17:30:07+00:00                       -2 days   \n",
       "4        SGSIN        2021-09-01 17:30:07+00:00                       -2 days   \n",
       "...        ...                              ...                           ...   \n",
       "6342     USHOU 2021-09-24 04:08:34.690000+00:00                       79 days   \n",
       "6343     USHOU 2021-09-24 04:08:34.690000+00:00                       79 days   \n",
       "6344     USHOU 2021-09-24 04:08:34.690000+00:00                       79 days   \n",
       "6345     USHOU 2021-09-24 04:08:34.690000+00:00                       80 days   \n",
       "6346     USHOU 2021-09-24 04:08:34.690000+00:00                       80 days   \n",
       "\n",
       "               abs(ATA-pETA) PV_days_ahead= pETA-timestamp diff_ATA_ETA  \n",
       "0    18 days 17:03:05.889369       15 days 17:30:36.171838     -19 days  \n",
       "1    18 days 17:44:51.754379       16 days 03:39:54.754379     -19 days  \n",
       "2    18 days 16:31:09.011660       16 days 19:57:11.011660     -19 days  \n",
       "3    18 days 20:29:45.917842       16 days 18:01:47.917842     -19 days  \n",
       "4    19 days 03:42:35.089371       17 days 11:27:17.089371     -19 days  \n",
       "...                      ...                           ...          ...  \n",
       "6342 15 days 09:17:01.884959       63 days 06:25:02.805041      16 days  \n",
       "6343 15 days 05:42:47.334183       63 days 08:23:18.355817      16 days  \n",
       "6344 48 days 01:47:26.465745       30 days 04:18:39.224255      48 days  \n",
       "6345 15 days 11:25:44.085311       63 days 19:01:20.604689      16 days  \n",
       "6346 15 days 09:18:54.575584       63 days 22:44:10.114416      16 days  \n",
       "\n",
       "[6347 rows x 11 columns]"
      ]
     },
     "execution_count": 96,
     "metadata": {},
     "output_type": "execute_result"
    }
   ],
   "source": [
    "df"
   ]
  },
  {
   "cell_type": "code",
   "execution_count": 97,
   "id": "08cceac3",
   "metadata": {},
   "outputs": [],
   "source": [
    "df['PV_days_ahead= pETA-ptimestamp']=df['estimated_arrival_utc'].dt.date-df['timestamp_utc'].dt.date"
   ]
  },
  {
   "cell_type": "code",
   "execution_count": null,
   "id": "52ef4f1b",
   "metadata": {},
   "outputs": [],
   "source": []
  },
  {
   "cell_type": "code",
   "execution_count": 98,
   "id": "30c2a7d3",
   "metadata": {},
   "outputs": [
    {
     "data": {
      "text/plain": [
       "CNSHG    526\n",
       "INNSA    431\n",
       "INMUN    414\n",
       "SGSIN    309\n",
       "CNYTN    300\n",
       "        ... \n",
       "EGALY      9\n",
       "AEJEA      7\n",
       "MYTPP      6\n",
       "BEANR      3\n",
       "MXPGO      1\n",
       "Name: port_code, Length: 67, dtype: int64"
      ]
     },
     "execution_count": 98,
     "metadata": {},
     "output_type": "execute_result"
    }
   ],
   "source": [
    "df['port_code'].value_counts()"
   ]
  },
  {
   "cell_type": "code",
   "execution_count": null,
   "id": "a869d77e",
   "metadata": {},
   "outputs": [],
   "source": []
  },
  {
   "cell_type": "code",
   "execution_count": null,
   "id": "9ee90d2c",
   "metadata": {},
   "outputs": [],
   "source": []
  },
  {
   "cell_type": "code",
   "execution_count": 99,
   "id": "e12e8f60",
   "metadata": {},
   "outputs": [
    {
     "data": {
      "text/plain": [
       "port_code\n",
       "MTMAR    0 days 04:14:19.388921875\n",
       "MXPGO       0 days 12:26:42.611614\n",
       "AEJEA    0 days 15:57:35.212512714\n",
       "USTPA    0 days 18:05:06.547852611\n",
       "USMOB    0 days 20:45:42.440215090\n",
       "                   ...            \n",
       "PTSIE   11 days 02:23:08.575950538\n",
       "USPHL   11 days 11:55:08.155693730\n",
       "ESLPA   13 days 08:25:07.568844201\n",
       "PAMIT   19 days 01:13:55.377446555\n",
       "FRFOS   20 days 11:34:41.305484500\n",
       "Name: abs(ATA-pETA), Length: 67, dtype: timedelta64[ns]"
      ]
     },
     "execution_count": 99,
     "metadata": {},
     "output_type": "execute_result"
    }
   ],
   "source": [
    "df.groupby(df['port_code'])['abs(ATA-pETA)'].mean().sort_values()"
   ]
  },
  {
   "cell_type": "code",
   "execution_count": 100,
   "id": "fc49e525",
   "metadata": {},
   "outputs": [
    {
     "data": {
      "text/plain": [
       "4"
      ]
     },
     "execution_count": 100,
     "metadata": {},
     "output_type": "execute_result"
    }
   ],
   "source": [
    "df.duplicated().sum()"
   ]
  },
  {
   "cell_type": "code",
   "execution_count": 101,
   "id": "944dec38",
   "metadata": {},
   "outputs": [
    {
     "data": {
      "text/plain": [
       "9316347      1\n",
       "9450935      3\n",
       "9393319      6\n",
       "9110377      7\n",
       "9238882      7\n",
       "          ... \n",
       "9632129    252\n",
       "9777216    264\n",
       "9606338    267\n",
       "9619969    344\n",
       "9393307    459\n",
       "Name: imo, Length: 68, dtype: int64"
      ]
     },
     "execution_count": 101,
     "metadata": {},
     "output_type": "execute_result"
    }
   ],
   "source": [
    "df['imo'].value_counts().sort_values()"
   ]
  },
  {
   "cell_type": "code",
   "execution_count": 102,
   "id": "44b77ada",
   "metadata": {},
   "outputs": [],
   "source": [
    "#df['scheduled_arrival_utc'].dt.month.value_counts()"
   ]
  },
  {
   "cell_type": "code",
   "execution_count": 103,
   "id": "8fccbe13",
   "metadata": {},
   "outputs": [
    {
     "data": {
      "text/plain": [
       "9    5938\n",
       "8     409\n",
       "Name: actual_arrival_utc, dtype: int64"
      ]
     },
     "execution_count": 103,
     "metadata": {},
     "output_type": "execute_result"
    }
   ],
   "source": [
    "df['actual_arrival_utc'].dt.month.value_counts()"
   ]
  },
  {
   "cell_type": "code",
   "execution_count": 104,
   "id": "67be3a06",
   "metadata": {},
   "outputs": [
    {
     "data": {
      "text/plain": [
       "9     4842\n",
       "8      846\n",
       "10     653\n",
       "11       6\n",
       "Name: estimated_arrival_utc, dtype: int64"
      ]
     },
     "execution_count": 104,
     "metadata": {},
     "output_type": "execute_result"
    }
   ],
   "source": [
    "df['estimated_arrival_utc'].dt.month.value_counts()"
   ]
  },
  {
   "cell_type": "code",
   "execution_count": 105,
   "id": "8e061f89",
   "metadata": {},
   "outputs": [],
   "source": [
    "#df['Scheduled_month'] = df['scheduled_arrival_utc'].dt.month"
   ]
  },
  {
   "cell_type": "code",
   "execution_count": 106,
   "id": "fe702c67",
   "metadata": {},
   "outputs": [
    {
     "data": {
      "text/html": [
       "<div>\n",
       "<style scoped>\n",
       "    .dataframe tbody tr th:only-of-type {\n",
       "        vertical-align: middle;\n",
       "    }\n",
       "\n",
       "    .dataframe tbody tr th {\n",
       "        vertical-align: top;\n",
       "    }\n",
       "\n",
       "    .dataframe thead th {\n",
       "        text-align: right;\n",
       "    }\n",
       "</style>\n",
       "<table border=\"1\" class=\"dataframe\">\n",
       "  <thead>\n",
       "    <tr style=\"text-align: right;\">\n",
       "      <th></th>\n",
       "      <th>vessel_live_info_id</th>\n",
       "      <th>timestamp_utc</th>\n",
       "      <th>scheduled_arrival_utc</th>\n",
       "      <th>estimated_arrival_utc</th>\n",
       "      <th>imo</th>\n",
       "      <th>port_code</th>\n",
       "      <th>actual_arrival_utc</th>\n",
       "      <th>AV_days_ahead= ATA-ptimestamp</th>\n",
       "      <th>abs(ATA-pETA)</th>\n",
       "      <th>PV_days_ahead= pETA-timestamp</th>\n",
       "      <th>diff_ATA_ETA</th>\n",
       "      <th>PV_days_ahead= pETA-ptimestamp</th>\n",
       "    </tr>\n",
       "  </thead>\n",
       "  <tbody>\n",
       "    <tr>\n",
       "      <th>0</th>\n",
       "      <td>5048637f-bf9a-483e-bef7-12afda292a98</td>\n",
       "      <td>2021-09-04 17:02:36.717531+00:00</td>\n",
       "      <td>2021-09-20 02:00:00+00:00</td>\n",
       "      <td>2021-09-20 10:33:12.889369+00:00</td>\n",
       "      <td>9316373</td>\n",
       "      <td>SGSIN</td>\n",
       "      <td>2021-09-01 17:30:07+00:00</td>\n",
       "      <td>-3 days</td>\n",
       "      <td>18 days 17:03:05.889369</td>\n",
       "      <td>15 days 17:30:36.171838</td>\n",
       "      <td>-19 days</td>\n",
       "      <td>16 days</td>\n",
       "    </tr>\n",
       "    <tr>\n",
       "      <th>1</th>\n",
       "      <td>70f35ce9-0a80-459d-882f-8c4fe7652060</td>\n",
       "      <td>2021-09-04 07:35:04+00:00</td>\n",
       "      <td>2021-09-20 02:00:00+00:00</td>\n",
       "      <td>2021-09-20 11:14:58.754379+00:00</td>\n",
       "      <td>9316373</td>\n",
       "      <td>SGSIN</td>\n",
       "      <td>2021-09-01 17:30:07+00:00</td>\n",
       "      <td>-3 days</td>\n",
       "      <td>18 days 17:44:51.754379</td>\n",
       "      <td>16 days 03:39:54.754379</td>\n",
       "      <td>-19 days</td>\n",
       "      <td>16 days</td>\n",
       "    </tr>\n",
       "    <tr>\n",
       "      <th>2</th>\n",
       "      <td>524482f2-dd6e-4fa6-b855-82d798c820e8</td>\n",
       "      <td>2021-09-03 14:04:05+00:00</td>\n",
       "      <td>2021-09-20 02:00:00+00:00</td>\n",
       "      <td>2021-09-20 10:01:16.011660+00:00</td>\n",
       "      <td>9316373</td>\n",
       "      <td>SGSIN</td>\n",
       "      <td>2021-09-01 17:30:07+00:00</td>\n",
       "      <td>-2 days</td>\n",
       "      <td>18 days 16:31:09.011660</td>\n",
       "      <td>16 days 19:57:11.011660</td>\n",
       "      <td>-19 days</td>\n",
       "      <td>17 days</td>\n",
       "    </tr>\n",
       "    <tr>\n",
       "      <th>3</th>\n",
       "      <td>a4977e62-0316-4dd3-9bb2-8261c2517dff</td>\n",
       "      <td>2021-09-03 19:58:05+00:00</td>\n",
       "      <td>2021-09-20 02:00:00+00:00</td>\n",
       "      <td>2021-09-20 13:59:52.917842+00:00</td>\n",
       "      <td>9316373</td>\n",
       "      <td>SGSIN</td>\n",
       "      <td>2021-09-01 17:30:07+00:00</td>\n",
       "      <td>-2 days</td>\n",
       "      <td>18 days 20:29:45.917842</td>\n",
       "      <td>16 days 18:01:47.917842</td>\n",
       "      <td>-19 days</td>\n",
       "      <td>17 days</td>\n",
       "    </tr>\n",
       "    <tr>\n",
       "      <th>4</th>\n",
       "      <td>9c563234-3438-4837-aeb3-b67fd19578de</td>\n",
       "      <td>2021-09-03 09:45:25+00:00</td>\n",
       "      <td>2021-09-20 02:00:00+00:00</td>\n",
       "      <td>2021-09-20 21:12:42.089371+00:00</td>\n",
       "      <td>9316373</td>\n",
       "      <td>SGSIN</td>\n",
       "      <td>2021-09-01 17:30:07+00:00</td>\n",
       "      <td>-2 days</td>\n",
       "      <td>19 days 03:42:35.089371</td>\n",
       "      <td>17 days 11:27:17.089371</td>\n",
       "      <td>-19 days</td>\n",
       "      <td>17 days</td>\n",
       "    </tr>\n",
       "    <tr>\n",
       "      <th>...</th>\n",
       "      <td>...</td>\n",
       "      <td>...</td>\n",
       "      <td>...</td>\n",
       "      <td>...</td>\n",
       "      <td>...</td>\n",
       "      <td>...</td>\n",
       "      <td>...</td>\n",
       "      <td>...</td>\n",
       "      <td>...</td>\n",
       "      <td>...</td>\n",
       "      <td>...</td>\n",
       "      <td>...</td>\n",
       "    </tr>\n",
       "    <tr>\n",
       "      <th>6342</th>\n",
       "      <td>767b25e3-9e13-43f5-845e-6f92e7c638bd</td>\n",
       "      <td>2021-07-07 12:26:30+00:00</td>\n",
       "      <td>2021-09-15 06:00:00+00:00</td>\n",
       "      <td>2021-09-08 18:51:32.805041+00:00</td>\n",
       "      <td>9332884</td>\n",
       "      <td>USHOU</td>\n",
       "      <td>2021-09-24 04:08:34.690000+00:00</td>\n",
       "      <td>79 days</td>\n",
       "      <td>15 days 09:17:01.884959</td>\n",
       "      <td>63 days 06:25:02.805041</td>\n",
       "      <td>16 days</td>\n",
       "      <td>63 days</td>\n",
       "    </tr>\n",
       "    <tr>\n",
       "      <th>6343</th>\n",
       "      <td>fc64b759-b726-4972-8d2b-58df28aa88c2</td>\n",
       "      <td>2021-07-07 14:02:29+00:00</td>\n",
       "      <td>2021-09-15 06:00:00+00:00</td>\n",
       "      <td>2021-09-08 22:25:47.355817+00:00</td>\n",
       "      <td>9332884</td>\n",
       "      <td>USHOU</td>\n",
       "      <td>2021-09-24 04:08:34.690000+00:00</td>\n",
       "      <td>79 days</td>\n",
       "      <td>15 days 05:42:47.334183</td>\n",
       "      <td>63 days 08:23:18.355817</td>\n",
       "      <td>16 days</td>\n",
       "      <td>63 days</td>\n",
       "    </tr>\n",
       "    <tr>\n",
       "      <th>6344</th>\n",
       "      <td>e68fef04-1886-47e7-8e53-eeabc54aebb4</td>\n",
       "      <td>2021-07-07 22:02:29+00:00</td>\n",
       "      <td>2021-09-15 06:00:00+00:00</td>\n",
       "      <td>2021-08-07 02:21:08.224255+00:00</td>\n",
       "      <td>9332884</td>\n",
       "      <td>USHOU</td>\n",
       "      <td>2021-09-24 04:08:34.690000+00:00</td>\n",
       "      <td>79 days</td>\n",
       "      <td>48 days 01:47:26.465745</td>\n",
       "      <td>30 days 04:18:39.224255</td>\n",
       "      <td>48 days</td>\n",
       "      <td>31 days</td>\n",
       "    </tr>\n",
       "    <tr>\n",
       "      <th>6345</th>\n",
       "      <td>fd452fcc-edb7-48a4-b1af-2969f2b31bdd</td>\n",
       "      <td>2021-07-06 21:41:30+00:00</td>\n",
       "      <td>2021-09-15 06:00:00+00:00</td>\n",
       "      <td>2021-09-08 16:42:50.604689+00:00</td>\n",
       "      <td>9332884</td>\n",
       "      <td>USHOU</td>\n",
       "      <td>2021-09-24 04:08:34.690000+00:00</td>\n",
       "      <td>80 days</td>\n",
       "      <td>15 days 11:25:44.085311</td>\n",
       "      <td>63 days 19:01:20.604689</td>\n",
       "      <td>16 days</td>\n",
       "      <td>64 days</td>\n",
       "    </tr>\n",
       "    <tr>\n",
       "      <th>6346</th>\n",
       "      <td>47e72105-91f6-4d11-b8ec-71e5fe8ee5a6</td>\n",
       "      <td>2021-07-06 20:05:30+00:00</td>\n",
       "      <td>2021-09-15 06:00:00+00:00</td>\n",
       "      <td>2021-09-08 18:49:40.114416+00:00</td>\n",
       "      <td>9332884</td>\n",
       "      <td>USHOU</td>\n",
       "      <td>2021-09-24 04:08:34.690000+00:00</td>\n",
       "      <td>80 days</td>\n",
       "      <td>15 days 09:18:54.575584</td>\n",
       "      <td>63 days 22:44:10.114416</td>\n",
       "      <td>16 days</td>\n",
       "      <td>64 days</td>\n",
       "    </tr>\n",
       "  </tbody>\n",
       "</table>\n",
       "<p>6347 rows × 12 columns</p>\n",
       "</div>"
      ],
      "text/plain": [
       "                       vessel_live_info_id                    timestamp_utc  \\\n",
       "0     5048637f-bf9a-483e-bef7-12afda292a98 2021-09-04 17:02:36.717531+00:00   \n",
       "1     70f35ce9-0a80-459d-882f-8c4fe7652060        2021-09-04 07:35:04+00:00   \n",
       "2     524482f2-dd6e-4fa6-b855-82d798c820e8        2021-09-03 14:04:05+00:00   \n",
       "3     a4977e62-0316-4dd3-9bb2-8261c2517dff        2021-09-03 19:58:05+00:00   \n",
       "4     9c563234-3438-4837-aeb3-b67fd19578de        2021-09-03 09:45:25+00:00   \n",
       "...                                    ...                              ...   \n",
       "6342  767b25e3-9e13-43f5-845e-6f92e7c638bd        2021-07-07 12:26:30+00:00   \n",
       "6343  fc64b759-b726-4972-8d2b-58df28aa88c2        2021-07-07 14:02:29+00:00   \n",
       "6344  e68fef04-1886-47e7-8e53-eeabc54aebb4        2021-07-07 22:02:29+00:00   \n",
       "6345  fd452fcc-edb7-48a4-b1af-2969f2b31bdd        2021-07-06 21:41:30+00:00   \n",
       "6346  47e72105-91f6-4d11-b8ec-71e5fe8ee5a6        2021-07-06 20:05:30+00:00   \n",
       "\n",
       "         scheduled_arrival_utc            estimated_arrival_utc      imo  \\\n",
       "0    2021-09-20 02:00:00+00:00 2021-09-20 10:33:12.889369+00:00  9316373   \n",
       "1    2021-09-20 02:00:00+00:00 2021-09-20 11:14:58.754379+00:00  9316373   \n",
       "2    2021-09-20 02:00:00+00:00 2021-09-20 10:01:16.011660+00:00  9316373   \n",
       "3    2021-09-20 02:00:00+00:00 2021-09-20 13:59:52.917842+00:00  9316373   \n",
       "4    2021-09-20 02:00:00+00:00 2021-09-20 21:12:42.089371+00:00  9316373   \n",
       "...                        ...                              ...      ...   \n",
       "6342 2021-09-15 06:00:00+00:00 2021-09-08 18:51:32.805041+00:00  9332884   \n",
       "6343 2021-09-15 06:00:00+00:00 2021-09-08 22:25:47.355817+00:00  9332884   \n",
       "6344 2021-09-15 06:00:00+00:00 2021-08-07 02:21:08.224255+00:00  9332884   \n",
       "6345 2021-09-15 06:00:00+00:00 2021-09-08 16:42:50.604689+00:00  9332884   \n",
       "6346 2021-09-15 06:00:00+00:00 2021-09-08 18:49:40.114416+00:00  9332884   \n",
       "\n",
       "     port_code               actual_arrival_utc AV_days_ahead= ATA-ptimestamp  \\\n",
       "0        SGSIN        2021-09-01 17:30:07+00:00                       -3 days   \n",
       "1        SGSIN        2021-09-01 17:30:07+00:00                       -3 days   \n",
       "2        SGSIN        2021-09-01 17:30:07+00:00                       -2 days   \n",
       "3        SGSIN        2021-09-01 17:30:07+00:00                       -2 days   \n",
       "4        SGSIN        2021-09-01 17:30:07+00:00                       -2 days   \n",
       "...        ...                              ...                           ...   \n",
       "6342     USHOU 2021-09-24 04:08:34.690000+00:00                       79 days   \n",
       "6343     USHOU 2021-09-24 04:08:34.690000+00:00                       79 days   \n",
       "6344     USHOU 2021-09-24 04:08:34.690000+00:00                       79 days   \n",
       "6345     USHOU 2021-09-24 04:08:34.690000+00:00                       80 days   \n",
       "6346     USHOU 2021-09-24 04:08:34.690000+00:00                       80 days   \n",
       "\n",
       "               abs(ATA-pETA) PV_days_ahead= pETA-timestamp diff_ATA_ETA  \\\n",
       "0    18 days 17:03:05.889369       15 days 17:30:36.171838     -19 days   \n",
       "1    18 days 17:44:51.754379       16 days 03:39:54.754379     -19 days   \n",
       "2    18 days 16:31:09.011660       16 days 19:57:11.011660     -19 days   \n",
       "3    18 days 20:29:45.917842       16 days 18:01:47.917842     -19 days   \n",
       "4    19 days 03:42:35.089371       17 days 11:27:17.089371     -19 days   \n",
       "...                      ...                           ...          ...   \n",
       "6342 15 days 09:17:01.884959       63 days 06:25:02.805041      16 days   \n",
       "6343 15 days 05:42:47.334183       63 days 08:23:18.355817      16 days   \n",
       "6344 48 days 01:47:26.465745       30 days 04:18:39.224255      48 days   \n",
       "6345 15 days 11:25:44.085311       63 days 19:01:20.604689      16 days   \n",
       "6346 15 days 09:18:54.575584       63 days 22:44:10.114416      16 days   \n",
       "\n",
       "     PV_days_ahead= pETA-ptimestamp  \n",
       "0                           16 days  \n",
       "1                           16 days  \n",
       "2                           17 days  \n",
       "3                           17 days  \n",
       "4                           17 days  \n",
       "...                             ...  \n",
       "6342                        63 days  \n",
       "6343                        63 days  \n",
       "6344                        31 days  \n",
       "6345                        64 days  \n",
       "6346                        64 days  \n",
       "\n",
       "[6347 rows x 12 columns]"
      ]
     },
     "execution_count": 106,
     "metadata": {},
     "output_type": "execute_result"
    }
   ],
   "source": [
    "df"
   ]
  },
  {
   "cell_type": "code",
   "execution_count": 107,
   "id": "1a6783a3",
   "metadata": {},
   "outputs": [
    {
     "data": {
      "image/png": "[encoded data removed]"
     },
     "metadata": {},
     "output_type": "display_data"
    }
   ],
   "source": [
    "#visualization\n",
    "import plotly.express as px\n",
    "import numpy as np\n",
    "\n",
    "fig = px.box(df, y=\"abs(ATA-pETA)\")\n",
    "fig.show('png')"
   ]
  },
  {
   "cell_type": "code",
   "execution_count": 108,
   "id": "2833730f",
   "metadata": {},
   "outputs": [
    {
     "data": {
      "image/png": "[encoded data removed]"
     },
     "metadata": {},
     "output_type": "display_data"
    }
   ],
   "source": [
    "fig = px.histogram(df, x=\"imo\")\n",
    "fig.show('png')"
   ]
  },
  {
   "cell_type": "code",
   "execution_count": 109,
   "id": "55cf2780",
   "metadata": {},
   "outputs": [
    {
     "data": {
      "image/png": "[encoded data removed]"
     },
     "metadata": {},
     "output_type": "display_data"
    }
   ],
   "source": [
    "fig = px.density_heatmap(df, x=\"port_code\", y=\"abs(ATA-pETA)\")\n",
    "fig.show('png')"
   ]
  },
  {
   "cell_type": "code",
   "execution_count": 110,
   "id": "d2f62b1f",
   "metadata": {},
   "outputs": [
    {
     "data": {
      "image/png": "[encoded data removed]"
     },
     "metadata": {},
     "output_type": "display_data"
    }
   ],
   "source": [
    "fig = px.density_heatmap(df, x=\"imo\", y=\"abs(ATA-pETA)\")\n",
    "fig.show('png')"
   ]
  },
  {
   "cell_type": "code",
   "execution_count": 111,
   "id": "1de8745f",
   "metadata": {},
   "outputs": [
    {
     "data": {
      "image/png": "[encoded data removed]"
     },
     "metadata": {},
     "output_type": "display_data"
    }
   ],
   "source": [
    "fig = px.density_heatmap(df, x=\"imo\", y=\"port_code\")\n",
    "fig.show('png')"
   ]
  },
  {
   "cell_type": "code",
   "execution_count": 112,
   "id": "724a9f61",
   "metadata": {},
   "outputs": [
    {
     "ename": "KeyError",
     "evalue": "False",
     "output_type": "error",
     "traceback": [
      "\u001b[1;31m---------------------------------------------------------------------------\u001b[0m",
      "\u001b[1;31mKeyError\u001b[0m                                  Traceback (most recent call last)",
      "File \u001b[1;32m~\\AppData\\Roaming\\Python\\Python310\\site-packages\\pandas\\core\\indexes\\base.py:3802\u001b[0m, in \u001b[0;36mIndex.get_loc\u001b[1;34m(self, key, method, tolerance)\u001b[0m\n\u001b[0;32m   3801\u001b[0m \u001b[38;5;28;01mtry\u001b[39;00m:\n\u001b[1;32m-> 3802\u001b[0m     \u001b[38;5;28;01mreturn\u001b[39;00m \u001b[38;5;28;43mself\u001b[39;49m\u001b[38;5;241;43m.\u001b[39;49m\u001b[43m_engine\u001b[49m\u001b[38;5;241;43m.\u001b[39;49m\u001b[43mget_loc\u001b[49m\u001b[43m(\u001b[49m\u001b[43mcasted_key\u001b[49m\u001b[43m)\u001b[49m\n\u001b[0;32m   3803\u001b[0m \u001b[38;5;28;01mexcept\u001b[39;00m \u001b[38;5;167;01mKeyError\u001b[39;00m \u001b[38;5;28;01mas\u001b[39;00m err:\n",
      "File \u001b[1;32m~\\AppData\\Roaming\\Python\\Python310\\site-packages\\pandas\\_libs\\index.pyx:138\u001b[0m, in \u001b[0;36mpandas._libs.index.IndexEngine.get_loc\u001b[1;34m()\u001b[0m\n",
      "File \u001b[1;32m~\\AppData\\Roaming\\Python\\Python310\\site-packages\\pandas\\_libs\\index.pyx:165\u001b[0m, in \u001b[0;36mpandas._libs.index.IndexEngine.get_loc\u001b[1;34m()\u001b[0m\n",
      "File \u001b[1;32mpandas\\_libs\\hashtable_class_helper.pxi:5745\u001b[0m, in \u001b[0;36mpandas._libs.hashtable.PyObjectHashTable.get_item\u001b[1;34m()\u001b[0m\n",
      "File \u001b[1;32mpandas\\_libs\\hashtable_class_helper.pxi:5753\u001b[0m, in \u001b[0;36mpandas._libs.hashtable.PyObjectHashTable.get_item\u001b[1;34m()\u001b[0m\n",
      "\u001b[1;31mKeyError\u001b[0m: False",
      "\nThe above exception was the direct cause of the following exception:\n",
      "\u001b[1;31mKeyError\u001b[0m                                  Traceback (most recent call last)",
      "Cell \u001b[1;32mIn[112], line 1\u001b[0m\n\u001b[1;32m----> 1\u001b[0m \u001b[43mdf\u001b[49m\u001b[43m[\u001b[49m\u001b[38;5;124;43m\"\u001b[39;49m\u001b[38;5;124;43mactual_arrival_utc_date\u001b[39;49m\u001b[38;5;124;43m\"\u001b[39;49m\u001b[38;5;241;43m==\u001b[39;49m\u001b[38;5;124;43m\"\u001b[39;49m\u001b[38;5;124;43m2021-09-07T11:25:09+00:00\u001b[39;49m\u001b[38;5;124;43m\"\u001b[39;49m\u001b[43m]\u001b[49m\n",
      "File \u001b[1;32m~\\AppData\\Roaming\\Python\\Python310\\site-packages\\pandas\\core\\frame.py:3807\u001b[0m, in \u001b[0;36mDataFrame.__getitem__\u001b[1;34m(self, key)\u001b[0m\n\u001b[0;32m   3805\u001b[0m \u001b[38;5;28;01mif\u001b[39;00m \u001b[38;5;28mself\u001b[39m\u001b[38;5;241m.\u001b[39mcolumns\u001b[38;5;241m.\u001b[39mnlevels \u001b[38;5;241m>\u001b[39m \u001b[38;5;241m1\u001b[39m:\n\u001b[0;32m   3806\u001b[0m     \u001b[38;5;28;01mreturn\u001b[39;00m \u001b[38;5;28mself\u001b[39m\u001b[38;5;241m.\u001b[39m_getitem_multilevel(key)\n\u001b[1;32m-> 3807\u001b[0m indexer \u001b[38;5;241m=\u001b[39m \u001b[38;5;28;43mself\u001b[39;49m\u001b[38;5;241;43m.\u001b[39;49m\u001b[43mcolumns\u001b[49m\u001b[38;5;241;43m.\u001b[39;49m\u001b[43mget_loc\u001b[49m\u001b[43m(\u001b[49m\u001b[43mkey\u001b[49m\u001b[43m)\u001b[49m\n\u001b[0;32m   3808\u001b[0m \u001b[38;5;28;01mif\u001b[39;00m is_integer(indexer):\n\u001b[0;32m   3809\u001b[0m     indexer \u001b[38;5;241m=\u001b[39m [indexer]\n",
      "File \u001b[1;32m~\\AppData\\Roaming\\Python\\Python310\\site-packages\\pandas\\core\\indexes\\base.py:3804\u001b[0m, in \u001b[0;36mIndex.get_loc\u001b[1;34m(self, key, method, tolerance)\u001b[0m\n\u001b[0;32m   3802\u001b[0m     \u001b[38;5;28;01mreturn\u001b[39;00m \u001b[38;5;28mself\u001b[39m\u001b[38;5;241m.\u001b[39m_engine\u001b[38;5;241m.\u001b[39mget_loc(casted_key)\n\u001b[0;32m   3803\u001b[0m \u001b[38;5;28;01mexcept\u001b[39;00m \u001b[38;5;167;01mKeyError\u001b[39;00m \u001b[38;5;28;01mas\u001b[39;00m err:\n\u001b[1;32m-> 3804\u001b[0m     \u001b[38;5;28;01mraise\u001b[39;00m \u001b[38;5;167;01mKeyError\u001b[39;00m(key) \u001b[38;5;28;01mfrom\u001b[39;00m \u001b[38;5;21;01merr\u001b[39;00m\n\u001b[0;32m   3805\u001b[0m \u001b[38;5;28;01mexcept\u001b[39;00m \u001b[38;5;167;01mTypeError\u001b[39;00m:\n\u001b[0;32m   3806\u001b[0m     \u001b[38;5;66;03m# If we have a listlike key, _check_indexing_error will raise\u001b[39;00m\n\u001b[0;32m   3807\u001b[0m     \u001b[38;5;66;03m#  InvalidIndexError. Otherwise we fall through and re-raise\u001b[39;00m\n\u001b[0;32m   3808\u001b[0m     \u001b[38;5;66;03m#  the TypeError.\u001b[39;00m\n\u001b[0;32m   3809\u001b[0m     \u001b[38;5;28mself\u001b[39m\u001b[38;5;241m.\u001b[39m_check_indexing_error(key)\n",
      "\u001b[1;31mKeyError\u001b[0m: False"
     ]
    }
   ],
   "source": [
    "df[\"actual_arrival_utc_date\"==\"2021-09-07T11:25:09+00:00\"]"
   ]
  },
  {
   "cell_type": "code",
   "execution_count": 113,
   "id": "2f23b116",
   "metadata": {},
   "outputs": [
    {
     "data": {
      "text/plain": [
       "imo\n",
       "9720287    0 days 04:14:19.388921875\n",
       "9247766    0 days 09:21:03.983381812\n",
       "9316347       0 days 12:26:42.611614\n",
       "9238882    0 days 15:57:35.212512714\n",
       "9440784    0 days 16:42:45.879859987\n",
       "                     ...            \n",
       "9110377   17 days 11:58:42.761535142\n",
       "9372860   17 days 22:36:37.021350607\n",
       "9339272   18 days 02:10:26.494131277\n",
       "9349875   18 days 02:42:47.155431615\n",
       "9720457   25 days 05:09:45.144726519\n",
       "Name: abs(ATA-pETA), Length: 68, dtype: timedelta64[ns]"
      ]
     },
     "execution_count": 113,
     "metadata": {},
     "output_type": "execute_result"
    }
   ],
   "source": [
    "df.groupby([\"imo\"])['abs(ATA-pETA)'].mean().sort_values()"
   ]
  },
  {
   "cell_type": "code",
   "execution_count": 114,
   "id": "55858167",
   "metadata": {},
   "outputs": [
    {
     "data": {
      "text/plain": [
       "port_code\n",
       "MTMAR    0 days 04:14:19.388921875\n",
       "MXPGO       0 days 12:26:42.611614\n",
       "AEJEA    0 days 15:57:35.212512714\n",
       "USTPA    0 days 18:05:06.547852611\n",
       "USMOB    0 days 20:45:42.440215090\n",
       "                   ...            \n",
       "PTSIE   11 days 02:23:08.575950538\n",
       "USPHL   11 days 11:55:08.155693730\n",
       "ESLPA   13 days 08:25:07.568844201\n",
       "PAMIT   19 days 01:13:55.377446555\n",
       "FRFOS   20 days 11:34:41.305484500\n",
       "Name: abs(ATA-pETA), Length: 67, dtype: timedelta64[ns]"
      ]
     },
     "execution_count": 114,
     "metadata": {},
     "output_type": "execute_result"
    }
   ],
   "source": [
    "df.groupby([\"port_code\"])['abs(ATA-pETA)'].mean().sort_values()"
   ]
  },
  {
   "cell_type": "code",
   "execution_count": 115,
   "id": "b171403b",
   "metadata": {},
   "outputs": [
    {
     "ename": "TypeError",
     "evalue": "The DType <class 'numpy.dtype[float64]'> could not be promoted by <class 'numpy.dtype[timedelta64]'>. This means that no common DType exists for the given inputs. For example they cannot be stored in a single array unless the dtype is `object`. The full list of DTypes is: (<class 'numpy.dtype[float64]'>, <class 'numpy.dtype[timedelta64]'>)",
     "output_type": "error",
     "traceback": [
      "\u001b[1;31m---------------------------------------------------------------------------\u001b[0m",
      "\u001b[1;31mTypeError\u001b[0m                                 Traceback (most recent call last)",
      "Cell \u001b[1;32mIn[115], line 2\u001b[0m\n\u001b[0;32m      1\u001b[0m \u001b[38;5;28;01mimport\u001b[39;00m \u001b[38;5;21;01mmatplotlib\u001b[39;00m\u001b[38;5;21;01m.\u001b[39;00m\u001b[38;5;21;01mpyplot\u001b[39;00m \u001b[38;5;28;01mas\u001b[39;00m \u001b[38;5;21;01mplt\u001b[39;00m\n\u001b[1;32m----> 2\u001b[0m \u001b[43mdf\u001b[49m\u001b[38;5;241;43m.\u001b[39;49m\u001b[43mplot\u001b[49m\u001b[38;5;241;43m.\u001b[39;49m\u001b[43mscatter\u001b[49m\u001b[43m(\u001b[49m\u001b[43mx\u001b[49m\u001b[38;5;241;43m=\u001b[39;49m\u001b[38;5;124;43m\"\u001b[39;49m\u001b[38;5;124;43mport_code\u001b[39;49m\u001b[38;5;124;43m\"\u001b[39;49m\u001b[43m,\u001b[49m\u001b[43m \u001b[49m\u001b[43my\u001b[49m\u001b[38;5;241;43m=\u001b[39;49m\u001b[38;5;124;43m\"\u001b[39;49m\u001b[38;5;124;43mabs(ATA-pETA)\u001b[39;49m\u001b[38;5;124;43m\"\u001b[39;49m\u001b[43m)\u001b[49m\n\u001b[0;32m      3\u001b[0m plt\u001b[38;5;241m.\u001b[39mshow()\n",
      "File \u001b[1;32m~\\AppData\\Roaming\\Python\\Python310\\site-packages\\pandas\\plotting\\_core.py:1697\u001b[0m, in \u001b[0;36mPlotAccessor.scatter\u001b[1;34m(self, x, y, s, c, **kwargs)\u001b[0m\n\u001b[0;32m   1614\u001b[0m \u001b[38;5;28;01mdef\u001b[39;00m \u001b[38;5;21mscatter\u001b[39m(\u001b[38;5;28mself\u001b[39m, x, y, s\u001b[38;5;241m=\u001b[39m\u001b[38;5;28;01mNone\u001b[39;00m, c\u001b[38;5;241m=\u001b[39m\u001b[38;5;28;01mNone\u001b[39;00m, \u001b[38;5;241m*\u001b[39m\u001b[38;5;241m*\u001b[39mkwargs) \u001b[38;5;241m-\u001b[39m\u001b[38;5;241m>\u001b[39m PlotAccessor:\n\u001b[0;32m   1615\u001b[0m     \u001b[38;5;124;03m\"\"\"\u001b[39;00m\n\u001b[0;32m   1616\u001b[0m \u001b[38;5;124;03m    Create a scatter plot with varying marker point size and color.\u001b[39;00m\n\u001b[0;32m   1617\u001b[0m \n\u001b[1;32m   (...)\u001b[0m\n\u001b[0;32m   1695\u001b[0m \u001b[38;5;124;03m        ...                       colormap='viridis')\u001b[39;00m\n\u001b[0;32m   1696\u001b[0m \u001b[38;5;124;03m    \"\"\"\u001b[39;00m\n\u001b[1;32m-> 1697\u001b[0m     \u001b[38;5;28;01mreturn\u001b[39;00m \u001b[38;5;28mself\u001b[39m(kind\u001b[38;5;241m=\u001b[39m\u001b[38;5;124m\"\u001b[39m\u001b[38;5;124mscatter\u001b[39m\u001b[38;5;124m\"\u001b[39m, x\u001b[38;5;241m=\u001b[39mx, y\u001b[38;5;241m=\u001b[39my, s\u001b[38;5;241m=\u001b[39ms, c\u001b[38;5;241m=\u001b[39mc, \u001b[38;5;241m*\u001b[39m\u001b[38;5;241m*\u001b[39mkwargs)\n",
      "File \u001b[1;32m~\\AppData\\Roaming\\Python\\Python310\\site-packages\\pandas\\plotting\\_core.py:945\u001b[0m, in \u001b[0;36mPlotAccessor.__call__\u001b[1;34m(self, *args, **kwargs)\u001b[0m\n\u001b[0;32m    943\u001b[0m \u001b[38;5;28;01mif\u001b[39;00m kind \u001b[38;5;129;01min\u001b[39;00m \u001b[38;5;28mself\u001b[39m\u001b[38;5;241m.\u001b[39m_dataframe_kinds:\n\u001b[0;32m    944\u001b[0m     \u001b[38;5;28;01mif\u001b[39;00m \u001b[38;5;28misinstance\u001b[39m(data, ABCDataFrame):\n\u001b[1;32m--> 945\u001b[0m         \u001b[38;5;28;01mreturn\u001b[39;00m plot_backend\u001b[38;5;241m.\u001b[39mplot(data, x\u001b[38;5;241m=\u001b[39mx, y\u001b[38;5;241m=\u001b[39my, kind\u001b[38;5;241m=\u001b[39mkind, \u001b[38;5;241m*\u001b[39m\u001b[38;5;241m*\u001b[39mkwargs)\n\u001b[0;32m    946\u001b[0m     \u001b[38;5;28;01melse\u001b[39;00m:\n\u001b[0;32m    947\u001b[0m         \u001b[38;5;28;01mraise\u001b[39;00m \u001b[38;5;167;01mValueError\u001b[39;00m(\u001b[38;5;124mf\u001b[39m\u001b[38;5;124m\"\u001b[39m\u001b[38;5;124mplot kind \u001b[39m\u001b[38;5;132;01m{\u001b[39;00mkind\u001b[38;5;132;01m}\u001b[39;00m\u001b[38;5;124m can only be used for data frames\u001b[39m\u001b[38;5;124m\"\u001b[39m)\n",
      "File \u001b[1;32m~\\AppData\\Roaming\\Python\\Python310\\site-packages\\pandas\\plotting\\_matplotlib\\__init__.py:71\u001b[0m, in \u001b[0;36mplot\u001b[1;34m(data, kind, **kwargs)\u001b[0m\n\u001b[0;32m     69\u001b[0m         kwargs[\u001b[38;5;124m\"\u001b[39m\u001b[38;5;124max\u001b[39m\u001b[38;5;124m\"\u001b[39m] \u001b[38;5;241m=\u001b[39m \u001b[38;5;28mgetattr\u001b[39m(ax, \u001b[38;5;124m\"\u001b[39m\u001b[38;5;124mleft_ax\u001b[39m\u001b[38;5;124m\"\u001b[39m, ax)\n\u001b[0;32m     70\u001b[0m plot_obj \u001b[38;5;241m=\u001b[39m PLOT_CLASSES[kind](data, \u001b[38;5;241m*\u001b[39m\u001b[38;5;241m*\u001b[39mkwargs)\n\u001b[1;32m---> 71\u001b[0m \u001b[43mplot_obj\u001b[49m\u001b[38;5;241;43m.\u001b[39;49m\u001b[43mgenerate\u001b[49m\u001b[43m(\u001b[49m\u001b[43m)\u001b[49m\n\u001b[0;32m     72\u001b[0m plot_obj\u001b[38;5;241m.\u001b[39mdraw()\n\u001b[0;32m     73\u001b[0m \u001b[38;5;28;01mreturn\u001b[39;00m plot_obj\u001b[38;5;241m.\u001b[39mresult\n",
      "File \u001b[1;32m~\\AppData\\Roaming\\Python\\Python310\\site-packages\\pandas\\plotting\\_matplotlib\\core.py:452\u001b[0m, in \u001b[0;36mMPLPlot.generate\u001b[1;34m(self)\u001b[0m\n\u001b[0;32m    450\u001b[0m \u001b[38;5;28mself\u001b[39m\u001b[38;5;241m.\u001b[39m_compute_plot_data()\n\u001b[0;32m    451\u001b[0m \u001b[38;5;28mself\u001b[39m\u001b[38;5;241m.\u001b[39m_setup_subplots()\n\u001b[1;32m--> 452\u001b[0m \u001b[38;5;28;43mself\u001b[39;49m\u001b[38;5;241;43m.\u001b[39;49m\u001b[43m_make_plot\u001b[49m\u001b[43m(\u001b[49m\u001b[43m)\u001b[49m\n\u001b[0;32m    453\u001b[0m \u001b[38;5;28mself\u001b[39m\u001b[38;5;241m.\u001b[39m_add_table()\n\u001b[0;32m    454\u001b[0m \u001b[38;5;28mself\u001b[39m\u001b[38;5;241m.\u001b[39m_make_legend()\n",
      "File \u001b[1;32m~\\AppData\\Roaming\\Python\\Python310\\site-packages\\pandas\\plotting\\_matplotlib\\core.py:1259\u001b[0m, in \u001b[0;36mScatterPlot._make_plot\u001b[1;34m(self)\u001b[0m\n\u001b[0;32m   1257\u001b[0m \u001b[38;5;28;01melse\u001b[39;00m:\n\u001b[0;32m   1258\u001b[0m     label \u001b[38;5;241m=\u001b[39m \u001b[38;5;28;01mNone\u001b[39;00m\n\u001b[1;32m-> 1259\u001b[0m scatter \u001b[38;5;241m=\u001b[39m ax\u001b[38;5;241m.\u001b[39mscatter(\n\u001b[0;32m   1260\u001b[0m     data[x]\u001b[38;5;241m.\u001b[39mvalues,\n\u001b[0;32m   1261\u001b[0m     data[y]\u001b[38;5;241m.\u001b[39mvalues,\n\u001b[0;32m   1262\u001b[0m     c\u001b[38;5;241m=\u001b[39mc_values,\n\u001b[0;32m   1263\u001b[0m     label\u001b[38;5;241m=\u001b[39mlabel,\n\u001b[0;32m   1264\u001b[0m     cmap\u001b[38;5;241m=\u001b[39mcmap,\n\u001b[0;32m   1265\u001b[0m     norm\u001b[38;5;241m=\u001b[39mnorm,\n\u001b[0;32m   1266\u001b[0m     \u001b[38;5;241m*\u001b[39m\u001b[38;5;241m*\u001b[39m\u001b[38;5;28mself\u001b[39m\u001b[38;5;241m.\u001b[39mkwds,\n\u001b[0;32m   1267\u001b[0m )\n\u001b[0;32m   1268\u001b[0m \u001b[38;5;28;01mif\u001b[39;00m cb:\n\u001b[0;32m   1269\u001b[0m     cbar_label \u001b[38;5;241m=\u001b[39m c \u001b[38;5;28;01mif\u001b[39;00m c_is_column \u001b[38;5;28;01melse\u001b[39;00m \u001b[38;5;124m\"\u001b[39m\u001b[38;5;124m\"\u001b[39m\n",
      "File \u001b[1;32m~\\anaconda3\\lib\\site-packages\\matplotlib\\__init__.py:1442\u001b[0m, in \u001b[0;36m_preprocess_data.<locals>.inner\u001b[1;34m(ax, data, *args, **kwargs)\u001b[0m\n\u001b[0;32m   1439\u001b[0m \u001b[38;5;129m@functools\u001b[39m\u001b[38;5;241m.\u001b[39mwraps(func)\n\u001b[0;32m   1440\u001b[0m \u001b[38;5;28;01mdef\u001b[39;00m \u001b[38;5;21minner\u001b[39m(ax, \u001b[38;5;241m*\u001b[39margs, data\u001b[38;5;241m=\u001b[39m\u001b[38;5;28;01mNone\u001b[39;00m, \u001b[38;5;241m*\u001b[39m\u001b[38;5;241m*\u001b[39mkwargs):\n\u001b[0;32m   1441\u001b[0m     \u001b[38;5;28;01mif\u001b[39;00m data \u001b[38;5;129;01mis\u001b[39;00m \u001b[38;5;28;01mNone\u001b[39;00m:\n\u001b[1;32m-> 1442\u001b[0m         \u001b[38;5;28;01mreturn\u001b[39;00m func(ax, \u001b[38;5;241m*\u001b[39m\u001b[38;5;28mmap\u001b[39m(sanitize_sequence, args), \u001b[38;5;241m*\u001b[39m\u001b[38;5;241m*\u001b[39mkwargs)\n\u001b[0;32m   1444\u001b[0m     bound \u001b[38;5;241m=\u001b[39m new_sig\u001b[38;5;241m.\u001b[39mbind(ax, \u001b[38;5;241m*\u001b[39margs, \u001b[38;5;241m*\u001b[39m\u001b[38;5;241m*\u001b[39mkwargs)\n\u001b[0;32m   1445\u001b[0m     auto_label \u001b[38;5;241m=\u001b[39m (bound\u001b[38;5;241m.\u001b[39marguments\u001b[38;5;241m.\u001b[39mget(label_namer)\n\u001b[0;32m   1446\u001b[0m                   \u001b[38;5;129;01mor\u001b[39;00m bound\u001b[38;5;241m.\u001b[39mkwargs\u001b[38;5;241m.\u001b[39mget(label_namer))\n",
      "File \u001b[1;32m~\\anaconda3\\lib\\site-packages\\matplotlib\\axes\\_axes.py:4671\u001b[0m, in \u001b[0;36mAxes.scatter\u001b[1;34m(self, x, y, s, c, marker, cmap, norm, vmin, vmax, alpha, linewidths, edgecolors, plotnonfinite, **kwargs)\u001b[0m\n\u001b[0;32m   4666\u001b[0m     \u001b[38;5;28;01melif\u001b[39;00m np\u001b[38;5;241m.\u001b[39miterable(linewidths):\n\u001b[0;32m   4667\u001b[0m         linewidths \u001b[38;5;241m=\u001b[39m [\n\u001b[0;32m   4668\u001b[0m             lw \u001b[38;5;28;01mif\u001b[39;00m lw \u001b[38;5;129;01mis\u001b[39;00m \u001b[38;5;129;01mnot\u001b[39;00m \u001b[38;5;28;01mNone\u001b[39;00m \u001b[38;5;28;01melse\u001b[39;00m mpl\u001b[38;5;241m.\u001b[39mrcParams[\u001b[38;5;124m'\u001b[39m\u001b[38;5;124mlines.linewidth\u001b[39m\u001b[38;5;124m'\u001b[39m]\n\u001b[0;32m   4669\u001b[0m             \u001b[38;5;28;01mfor\u001b[39;00m lw \u001b[38;5;129;01min\u001b[39;00m linewidths]\n\u001b[1;32m-> 4671\u001b[0m offsets \u001b[38;5;241m=\u001b[39m \u001b[43mnp\u001b[49m\u001b[38;5;241;43m.\u001b[39;49m\u001b[43mma\u001b[49m\u001b[38;5;241;43m.\u001b[39;49m\u001b[43mcolumn_stack\u001b[49m\u001b[43m(\u001b[49m\u001b[43m[\u001b[49m\u001b[43mx\u001b[49m\u001b[43m,\u001b[49m\u001b[43m \u001b[49m\u001b[43my\u001b[49m\u001b[43m]\u001b[49m\u001b[43m)\u001b[49m\n\u001b[0;32m   4673\u001b[0m collection \u001b[38;5;241m=\u001b[39m mcoll\u001b[38;5;241m.\u001b[39mPathCollection(\n\u001b[0;32m   4674\u001b[0m     (path,), scales,\n\u001b[0;32m   4675\u001b[0m     facecolors\u001b[38;5;241m=\u001b[39mcolors,\n\u001b[1;32m   (...)\u001b[0m\n\u001b[0;32m   4680\u001b[0m     alpha\u001b[38;5;241m=\u001b[39malpha,\n\u001b[0;32m   4681\u001b[0m )\n\u001b[0;32m   4682\u001b[0m collection\u001b[38;5;241m.\u001b[39mset_transform(mtransforms\u001b[38;5;241m.\u001b[39mIdentityTransform())\n",
      "File \u001b[1;32m~\\AppData\\Roaming\\Python\\Python310\\site-packages\\numpy\\ma\\extras.py:290\u001b[0m, in \u001b[0;36m_fromnxfunction_seq.__call__\u001b[1;34m(self, x, *args, **params)\u001b[0m\n\u001b[0;32m    288\u001b[0m \u001b[38;5;28;01mdef\u001b[39;00m \u001b[38;5;21m__call__\u001b[39m(\u001b[38;5;28mself\u001b[39m, x, \u001b[38;5;241m*\u001b[39margs, \u001b[38;5;241m*\u001b[39m\u001b[38;5;241m*\u001b[39mparams):\n\u001b[0;32m    289\u001b[0m     func \u001b[38;5;241m=\u001b[39m \u001b[38;5;28mgetattr\u001b[39m(np, \u001b[38;5;28mself\u001b[39m\u001b[38;5;241m.\u001b[39m\u001b[38;5;18m__name__\u001b[39m)\n\u001b[1;32m--> 290\u001b[0m     _d \u001b[38;5;241m=\u001b[39m func(\u001b[38;5;28mtuple\u001b[39m([np\u001b[38;5;241m.\u001b[39masarray(a) \u001b[38;5;28;01mfor\u001b[39;00m a \u001b[38;5;129;01min\u001b[39;00m x]), \u001b[38;5;241m*\u001b[39margs, \u001b[38;5;241m*\u001b[39m\u001b[38;5;241m*\u001b[39mparams)\n\u001b[0;32m    291\u001b[0m     _m \u001b[38;5;241m=\u001b[39m func(\u001b[38;5;28mtuple\u001b[39m([getmaskarray(a) \u001b[38;5;28;01mfor\u001b[39;00m a \u001b[38;5;129;01min\u001b[39;00m x]), \u001b[38;5;241m*\u001b[39margs, \u001b[38;5;241m*\u001b[39m\u001b[38;5;241m*\u001b[39mparams)\n\u001b[0;32m    292\u001b[0m     \u001b[38;5;28;01mreturn\u001b[39;00m masked_array(_d, mask\u001b[38;5;241m=\u001b[39m_m)\n",
      "File \u001b[1;32m<__array_function__ internals>:200\u001b[0m, in \u001b[0;36mcolumn_stack\u001b[1;34m(*args, **kwargs)\u001b[0m\n",
      "File \u001b[1;32m~\\AppData\\Roaming\\Python\\Python310\\site-packages\\numpy\\lib\\shape_base.py:656\u001b[0m, in \u001b[0;36mcolumn_stack\u001b[1;34m(tup)\u001b[0m\n\u001b[0;32m    654\u001b[0m         arr \u001b[38;5;241m=\u001b[39m array(arr, copy\u001b[38;5;241m=\u001b[39m\u001b[38;5;28;01mFalse\u001b[39;00m, subok\u001b[38;5;241m=\u001b[39m\u001b[38;5;28;01mTrue\u001b[39;00m, ndmin\u001b[38;5;241m=\u001b[39m\u001b[38;5;241m2\u001b[39m)\u001b[38;5;241m.\u001b[39mT\n\u001b[0;32m    655\u001b[0m     arrays\u001b[38;5;241m.\u001b[39mappend(arr)\n\u001b[1;32m--> 656\u001b[0m \u001b[38;5;28;01mreturn\u001b[39;00m \u001b[43m_nx\u001b[49m\u001b[38;5;241;43m.\u001b[39;49m\u001b[43mconcatenate\u001b[49m\u001b[43m(\u001b[49m\u001b[43marrays\u001b[49m\u001b[43m,\u001b[49m\u001b[43m \u001b[49m\u001b[38;5;241;43m1\u001b[39;49m\u001b[43m)\u001b[49m\n",
      "File \u001b[1;32m<__array_function__ internals>:200\u001b[0m, in \u001b[0;36mconcatenate\u001b[1;34m(*args, **kwargs)\u001b[0m\n",
      "\u001b[1;31mTypeError\u001b[0m: The DType <class 'numpy.dtype[float64]'> could not be promoted by <class 'numpy.dtype[timedelta64]'>. This means that no common DType exists for the given inputs. For example they cannot be stored in a single array unless the dtype is `object`. The full list of DTypes is: (<class 'numpy.dtype[float64]'>, <class 'numpy.dtype[timedelta64]'>)"
     ]
    },
    {
     "data": {
      "image/png": "[encoded data removed]",
      "text/plain": [
       "<Figure size 640x480 with 1 Axes>"
      ]
     },
     "metadata": {},
     "output_type": "display_data"
    }
   ],
   "source": [
    "import matplotlib.pyplot as plt\n",
    "df.plot.scatter(x=\"port_code\", y=\"abs(ATA-pETA)\")\n",
    "plt.show()"
   ]
  },
  {
   "cell_type": "code",
   "execution_count": null,
   "id": "6b956b9b",
   "metadata": {},
   "outputs": [],
   "source": [
    "df['OTPA'] = df['ATA']-df['pETA'].value_counts()"
   ]
  },
  {
   "cell_type": "code",
   "execution_count": null,
   "id": "eb59a956",
   "metadata": {},
   "outputs": [],
   "source": [
    "df"
   ]
  },
  {
   "cell_type": "code",
   "execution_count": null,
   "id": "7bb88049",
   "metadata": {},
   "outputs": [],
   "source": [
    "df['estimated_arrival_utc']+ "
   ]
  },
  {
   "cell_type": "code",
   "execution_count": null,
   "id": "5df8b52a",
   "metadata": {},
   "outputs": [],
   "source": [
    "\n"
   ]
  },
  {
   "cell_type": "code",
   "execution_count": null,
   "id": "114946db",
   "metadata": {},
   "outputs": [],
   "source": []
  },
  {
   "cell_type": "code",
   "execution_count": null,
   "id": "51812fc1",
   "metadata": {},
   "outputs": [],
   "source": []
  },
  {
   "cell_type": "code",
   "execution_count": null,
   "id": "b528a288",
   "metadata": {},
   "outputs": [],
   "source": []
  },
  {
   "cell_type": "code",
   "execution_count": null,
   "id": "e040abe6",
   "metadata": {},
   "outputs": [],
   "source": []
  },
  {
   "cell_type": "code",
   "execution_count": null,
   "id": "9cfb6c2f",
   "metadata": {},
   "outputs": [],
   "source": []
  },
  {
   "cell_type": "code",
   "execution_count": null,
   "id": "6a8789c4",
   "metadata": {},
   "outputs": [],
   "source": []
  }
 ],
 "metadata": {
  "kernelspec": {
   "display_name": "Python 3 (ipykernel)",
   "language": "python",
   "name": "python3"
  },
  "language_info": {
   "codemirror_mode": {
    "name": "ipython",
    "version": 3
   },
   "file_extension": ".py",
   "mimetype": "text/x-python",
   "name": "python",
   "nbconvert_exporter": "python",
   "pygments_lexer": "ipython3",
   "version": "3.10.9"
  }
 },
 "nbformat": 4,
 "nbformat_minor": 5
}
